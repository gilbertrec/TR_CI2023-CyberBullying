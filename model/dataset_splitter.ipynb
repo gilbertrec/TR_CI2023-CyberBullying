{
 "cells": [
  {
   "cell_type": "code",
   "execution_count": null,
   "outputs": [],
   "source": [
    "\n",
    "import pandas as pd\n",
    "from sklearn.model_selection import train_test_split\n",
    "import csv"
   ],
   "metadata": {
    "collapsed": false
   }
  },
  {
   "cell_type": "markdown",
   "source": [
    "# Balance Dataset on class\n"
   ],
   "metadata": {
    "collapsed": false
   }
  },
  {
   "cell_type": "code",
   "execution_count": null,
   "outputs": [],
   "source": [
    "# train and test dataset\n",
    "data = pd.read_csv('../merging/dataset.csv')\n",
    "#take only observations with class label non empty\n",
    "data = data[data['class_label'].notna()]\n",
    "data = data.drop_duplicates()\n",
    "data_0 = data[data['class_label'] == 0]\n",
    "data_0 = data.sample(frac=.36)\n",
    "data_1 = data[data['class_label'] == 1]\n",
    "data = pd.concat([data_0,data_1],axis =0, ignore_index=True)\n",
    "print(data.head())\n",
    "len_0 = len(data_0)\n",
    "len_1 = len(data_1)\n",
    "print(\"Class 0:\",len_0)\n",
    "print(\"Class 1:\",len_1)\n",
    "print(\"Proportion 0:\",len_0/len(data) ,\"1:\",len_1/len(data))"
   ],
   "metadata": {
    "collapsed": false
   }
  },
  {
   "cell_type": "markdown",
   "source": [
    "# Split Dataset"
   ],
   "metadata": {
    "collapsed": false
   }
  },
  {
   "cell_type": "code",
   "execution_count": null,
   "outputs": [],
   "source": [
    "#setting 80% of data for training and 20% for testing, half for each class label\n",
    "train_text, test_text, train_labels, test_labels = train_test_split(data['Text'], data['class_label'],\n",
    "                                                                random_state=2018,\n",
    "                                                                test_size=0.25,\n",
    "                                                                stratify=data['class_label']) #split test 30%\n",
    "\n",
    "train_text, val_text,train_labels,val_labels = train_test_split(train_text, train_labels,\n",
    "                                                                random_state=2018,\n",
    "                                                                test_size=0.1,\n",
    "                                                                stratify=train_labels)\n",
    "\n",
    "with open('../splitting/Train.csv', 'w') as f:\n",
    "  writer = csv.writer(f)\n",
    "  writer.writerow(['Text', 'class_label'])\n",
    "  for x in train_text.index:\n",
    "    writer.writerow([train_text[x],train_labels[x]])\n",
    "\n",
    "with open('../splitting/Val.csv', 'w') as f:\n",
    "  writer = csv.writer(f)\n",
    "  writer.writerow(['Text', 'class_label'])\n",
    "  for x in val_text.index:\n",
    "    writer.writerow([val_text[x],val_labels[x]])\n",
    "\n",
    "\n",
    "with open('../splitting/Test.csv', 'w') as f:\n",
    "  writer = csv.writer(f)\n",
    "  writer.writerow(['Text', 'class_label'])\n",
    "  for x in test_text.index:\n",
    "    writer.writerow([test_text[x],test_labels[x]])"
   ],
   "metadata": {
    "collapsed": false
   }
  },
  {
   "cell_type": "markdown",
   "source": [
    "# Stats on Dataset"
   ],
   "metadata": {
    "collapsed": false
   }
  },
  {
   "cell_type": "code",
   "execution_count": null,
   "outputs": [],
   "source": [
    "from collections import Counter\n",
    "test_t = []\n",
    "test_l = []\n",
    "df = pd.read_csv(\"/content/drive/Shareddrives/TechnoRegulation/Progetto/splitting/Test.csv\")\n",
    "for i in range(0,len(df)):\n",
    "  test_t.append(df['Text'][i])\n",
    "  test_l.append(df['class_label'][i])\n",
    "\n",
    "test_text = pd.Series(test_t)\n",
    "test_labels = pd.Series(test_l)\n",
    "print(Counter(test_labels))"
   ],
   "metadata": {
    "collapsed": false
   }
  }
 ],
 "metadata": {
  "kernelspec": {
   "display_name": "Python 3",
   "language": "python",
   "name": "python3"
  },
  "language_info": {
   "codemirror_mode": {
    "name": "ipython",
    "version": 2
   },
   "file_extension": ".py",
   "mimetype": "text/x-python",
   "name": "python",
   "nbconvert_exporter": "python",
   "pygments_lexer": "ipython2",
   "version": "2.7.6"
  }
 },
 "nbformat": 4,
 "nbformat_minor": 0
}

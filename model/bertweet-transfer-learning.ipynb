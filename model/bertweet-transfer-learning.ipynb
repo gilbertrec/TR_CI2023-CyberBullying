{
 "cells": [
  {
   "cell_type": "code",
   "source": [
    "!pip install tensorflow_addons\n",
    "!pip install transformers"
   ],
   "metadata": {
    "colab": {
     "base_uri": "https://localhost:8080/"
    },
    "id": "yBppNjieETcI",
    "executionInfo": {
     "status": "ok",
     "timestamp": 1678041575693,
     "user_tz": -60,
     "elapsed": 43361,
     "user": {
      "displayName": "gibbo gibbo",
      "userId": "16540198223553695889"
     }
    },
    "outputId": "8a916c52-9a1e-475a-b49b-28b68f2c477f"
   },
   "id": "yBppNjieETcI",
   "execution_count": 4,
   "outputs": [
    {
     "output_type": "stream",
     "name": "stdout",
     "text": [
      "Looking in indexes: https://pypi.org/simple, https://us-python.pkg.dev/colab-wheels/public/simple/\n",
      "Requirement already satisfied: tensorflow_addons in /usr/local/lib/python3.8/dist-packages (0.19.0)\n",
      "Requirement already satisfied: typeguard>=2.7 in /usr/local/lib/python3.8/dist-packages (from tensorflow_addons) (2.7.1)\n",
      "Requirement already satisfied: packaging in /usr/local/lib/python3.8/dist-packages (from tensorflow_addons) (23.0)\n",
      "Looking in indexes: https://pypi.org/simple, https://us-python.pkg.dev/colab-wheels/public/simple/\n",
      "Collecting transformers\n",
      "  Downloading transformers-4.26.1-py3-none-any.whl (6.3 MB)\n",
      "\u001B[2K     \u001B[90m━━━━━━━━━━━━━━━━━━━━━━━━━━━━━━━━━━━━━━━━\u001B[0m \u001B[32m6.3/6.3 MB\u001B[0m \u001B[31m25.9 MB/s\u001B[0m eta \u001B[36m0:00:00\u001B[0m\n",
      "\u001B[?25hRequirement already satisfied: pyyaml>=5.1 in /usr/local/lib/python3.8/dist-packages (from transformers) (6.0)\n",
      "Collecting huggingface-hub<1.0,>=0.11.0\n",
      "  Downloading huggingface_hub-0.12.1-py3-none-any.whl (190 kB)\n",
      "\u001B[2K     \u001B[90m━━━━━━━━━━━━━━━━━━━━━━━━━━━━━━━━━━━━━━━\u001B[0m \u001B[32m190.3/190.3 KB\u001B[0m \u001B[31m3.8 MB/s\u001B[0m eta \u001B[36m0:00:00\u001B[0m\n",
      "\u001B[?25hRequirement already satisfied: requests in /usr/local/lib/python3.8/dist-packages (from transformers) (2.25.1)\n",
      "Collecting tokenizers!=0.11.3,<0.14,>=0.11.1\n",
      "  Downloading tokenizers-0.13.2-cp38-cp38-manylinux_2_17_x86_64.manylinux2014_x86_64.whl (7.6 MB)\n",
      "\u001B[2K     \u001B[90m━━━━━━━━━━━━━━━━━━━━━━━━━━━━━━━━━━━━━━━━\u001B[0m \u001B[32m7.6/7.6 MB\u001B[0m \u001B[31m17.8 MB/s\u001B[0m eta \u001B[36m0:00:00\u001B[0m\n",
      "\u001B[?25hRequirement already satisfied: numpy>=1.17 in /usr/local/lib/python3.8/dist-packages (from transformers) (1.24.2)\n",
      "Requirement already satisfied: tqdm>=4.27 in /usr/local/lib/python3.8/dist-packages (from transformers) (4.64.1)\n",
      "Requirement already satisfied: packaging>=20.0 in /usr/local/lib/python3.8/dist-packages (from transformers) (23.0)\n",
      "Requirement already satisfied: regex!=2019.12.17 in /usr/local/lib/python3.8/dist-packages (from transformers) (2022.6.2)\n",
      "Requirement already satisfied: filelock in /usr/local/lib/python3.8/dist-packages (from transformers) (3.9.0)\n",
      "Requirement already satisfied: typing-extensions>=3.7.4.3 in /usr/local/lib/python3.8/dist-packages (from huggingface-hub<1.0,>=0.11.0->transformers) (4.5.0)\n",
      "Requirement already satisfied: urllib3<1.27,>=1.21.1 in /usr/local/lib/python3.8/dist-packages (from requests->transformers) (1.26.14)\n",
      "Requirement already satisfied: certifi>=2017.4.17 in /usr/local/lib/python3.8/dist-packages (from requests->transformers) (2022.12.7)\n",
      "Requirement already satisfied: chardet<5,>=3.0.2 in /usr/local/lib/python3.8/dist-packages (from requests->transformers) (4.0.0)\n",
      "Requirement already satisfied: idna<3,>=2.5 in /usr/local/lib/python3.8/dist-packages (from requests->transformers) (2.10)\n",
      "Installing collected packages: tokenizers, huggingface-hub, transformers\n",
      "Successfully installed huggingface-hub-0.12.1 tokenizers-0.13.2 transformers-4.26.1\n"
     ]
    }
   ]
  },
  {
   "cell_type": "code",
   "execution_count": 5,
   "id": "cfafc6dd",
   "metadata": {
    "_cell_guid": "b1076dfc-b9ad-4769-8c92-a6c4dae69d19",
    "_uuid": "8f2839f25d086af736a60e9eeb907d3b93b6e0e5",
    "execution": {
     "iopub.execute_input": "2021-08-22T20:45:16.366217Z",
     "iopub.status.busy": "2021-08-22T20:45:16.365175Z",
     "iopub.status.idle": "2021-08-22T20:45:24.483846Z",
     "shell.execute_reply": "2021-08-22T20:45:24.484472Z",
     "shell.execute_reply.started": "2021-08-22T20:06:55.981997Z"
    },
    "papermill": {
     "duration": 8.133502,
     "end_time": "2021-08-22T20:45:24.484782",
     "exception": false,
     "start_time": "2021-08-22T20:45:16.351280",
     "status": "completed"
    },
    "tags": [],
    "colab": {
     "base_uri": "https://localhost:8080/"
    },
    "id": "cfafc6dd",
    "executionInfo": {
     "status": "ok",
     "timestamp": 1678041601854,
     "user_tz": -60,
     "elapsed": 26165,
     "user": {
      "displayName": "gibbo gibbo",
      "userId": "16540198223553695889"
     }
    },
    "outputId": "04171320-2232-44c7-e78d-977320eeb844"
   },
   "outputs": [
    {
     "output_type": "stream",
     "name": "stdout",
     "text": [
      "Mounted at /content/drive\n"
     ]
    }
   ],
   "source": [
    "import warnings\n",
    "warnings.simplefilter(action='ignore', category=FutureWarning)\n",
    "\n",
    "import pandas as pd\n",
    "import numpy as np\n",
    "\n",
    "from sklearn.model_selection import train_test_split\n",
    "\n",
    "import tensorflow as tf\n",
    "import tensorflow_addons as tfa\n",
    "from transformers import AutoTokenizer,TFRobertaModel\n",
    "\n",
    "from google.colab import drive\n",
    "drive.mount('/content/drive')"
   ]
  },
  {
   "cell_type": "code",
   "execution_count": 6,
   "id": "907843ce",
   "metadata": {
    "execution": {
     "iopub.execute_input": "2021-08-22T20:45:24.508337Z",
     "iopub.status.busy": "2021-08-22T20:45:24.507742Z",
     "iopub.status.idle": "2021-08-22T20:45:30.223725Z",
     "shell.execute_reply": "2021-08-22T20:45:30.223257Z",
     "shell.execute_reply.started": "2021-08-22T20:07:05.512564Z"
    },
    "papermill": {
     "duration": 5.728593,
     "end_time": "2021-08-22T20:45:30.223867",
     "exception": false,
     "start_time": "2021-08-22T20:45:24.495274",
     "status": "completed"
    },
    "tags": [],
    "colab": {
     "base_uri": "https://localhost:8080/"
    },
    "id": "907843ce",
    "executionInfo": {
     "status": "ok",
     "timestamp": 1678041615000,
     "user_tz": -60,
     "elapsed": 13151,
     "user": {
      "displayName": "gibbo gibbo",
      "userId": "16540198223553695889"
     }
    },
    "outputId": "ac8f35c0-e847-4cb5-c3c8-b1e5e70ee05d"
   },
   "outputs": [
    {
     "output_type": "stream",
     "name": "stdout",
     "text": [
      "Running on TPU  grpc://10.80.151.146:8470\n"
     ]
    },
    {
     "output_type": "stream",
     "name": "stderr",
     "text": [
      "WARNING:absl:`tf.distribute.experimental.TPUStrategy` is deprecated, please use  the non experimental symbol `tf.distribute.TPUStrategy` instead.\n"
     ]
    },
    {
     "output_type": "stream",
     "name": "stdout",
     "text": [
      "REPLICAS:  8\n"
     ]
    }
   ],
   "source": [
    "# Detect hardware, return appropriate distribution strategy\n",
    "try:\n",
    "    tpu = tf.distribute.cluster_resolver.TPUClusterResolver()\n",
    "    print('Running on TPU ', tpu.master())\n",
    "except ValueError:\n",
    "    tpu = None\n",
    "\n",
    "if tpu:\n",
    "    tf.config.experimental_connect_to_cluster(tpu)\n",
    "    tf.tpu.experimental.initialize_tpu_system(tpu)\n",
    "    strategy = tf.distribute.experimental.TPUStrategy(tpu)\n",
    "else:\n",
    "    # Default distribution strategy in Tensorflow. Works on CPU and single GPU.\n",
    "    strategy = tf.distribute.get_strategy()\n",
    "\n",
    "print(\"REPLICAS: \", strategy.num_replicas_in_sync)"
   ]
  },
  {
   "cell_type": "markdown",
   "id": "96bebdff",
   "metadata": {
    "papermill": {
     "duration": 0.009287,
     "end_time": "2021-08-22T20:45:30.243234",
     "exception": false,
     "start_time": "2021-08-22T20:45:30.233947",
     "status": "completed"
    },
    "tags": [],
    "id": "96bebdff"
   },
   "source": [
    "# Data Prep\n"
   ]
  },
  {
   "cell_type": "code",
   "execution_count": 7,
   "id": "85713952",
   "metadata": {
    "execution": {
     "iopub.execute_input": "2021-08-22T20:45:30.270893Z",
     "iopub.status.busy": "2021-08-22T20:45:30.270175Z",
     "iopub.status.idle": "2021-08-22T20:45:31.038950Z",
     "shell.execute_reply": "2021-08-22T20:45:31.038441Z",
     "shell.execute_reply.started": "2021-08-22T20:07:11.502518Z"
    },
    "papermill": {
     "duration": 0.786374,
     "end_time": "2021-08-22T20:45:31.039096",
     "exception": false,
     "start_time": "2021-08-22T20:45:30.252722",
     "status": "completed"
    },
    "tags": [],
    "id": "85713952",
    "executionInfo": {
     "status": "ok",
     "timestamp": 1678041698780,
     "user_tz": -60,
     "elapsed": 83783,
     "user": {
      "displayName": "gibbo gibbo",
      "userId": "16540198223553695889"
     }
    }
   },
   "outputs": [],
   "source": [
    "train_dir = \"/content/drive/Shareddrives/TechnoRegulation/Progetto/splitting/Train.csv\"\n",
    "\n",
    "df = pd.read_csv(train_dir)\n",
    "df2 = pd.read_csv('/content/drive/Shareddrives/TechnoRegulation/Progetto/splitting/Val.csv')\n",
    "df = pd.concat([df,df2],axis= 0, ignore_index= True)\n",
    "x = (df['Text']\n",
    "     .str.lower()     \n",
    "     .str.replace('\\x89Ûª|Ûª', \"'\")\n",
    "     .str.replace('\\n|\\x89.|\\x9d *', ' ')\n",
    "     .str.replace('&gt;', \">\")\n",
    "     .str.replace('&lt;', \"<\")\n",
    "     .str.replace('&amp;', \" and \")\n",
    "     .str.replace('won\\'t', 'will not')\n",
    "     .str.replace('can\\'t', 'cannot')\n",
    "     .str.replace('i\\'m', 'i am')\n",
    "     .str.replace('ain\\'t', 'is not')\n",
    "     .str.replace('hwy.', 'highway')\n",
    "     .str.replace('(\\w+)\\'ll', '\\g<1> will')\n",
    "     .str.replace('(\\w+)n\\'t', '\\g<1> not')\n",
    "     .str.replace('(\\w+)\\'ve', '\\g<1> have')\n",
    "     .str.replace('(\\w+)\\'s', '\\g<1> is')\n",
    "     .str.replace('(\\w+)\\'re', '\\g<1> are')\n",
    "     .str.replace('(\\w+)\\'d', '\\g<1> would')     \n",
    "     .str.replace('(\\w+)\\'m', '\\g<1> am')\n",
    "     .str.replace('<3', 'love')\n",
    "     .str.replace('w/e', 'whatever')\n",
    "     .str.replace('w/', 'with')    \n",
    "     .str.replace('\\b', ' ')\n",
    "     .str.replace('-', ' ')\n",
    "     .str.replace('  *', ' ')\n",
    "     .str.strip()\n",
    "     .to_numpy()\n",
    "    )\n",
    "y = df['class_label'].to_numpy()\n",
    "\n",
    "x_train, x_val, y_train, y_val = train_test_split(x, y, train_size = 0.7, random_state = 1000)"
   ]
  },
  {
   "cell_type": "code",
   "execution_count": 8,
   "id": "69e4c06d",
   "metadata": {
    "execution": {
     "iopub.execute_input": "2021-08-22T20:45:31.065129Z",
     "iopub.status.busy": "2021-08-22T20:45:31.064569Z",
     "iopub.status.idle": "2021-08-22T20:45:31.068292Z",
     "shell.execute_reply": "2021-08-22T20:45:31.067880Z",
     "shell.execute_reply.started": "2021-08-22T20:43:51.659564Z"
    },
    "papermill": {
     "duration": 0.01966,
     "end_time": "2021-08-22T20:45:31.068426",
     "exception": false,
     "start_time": "2021-08-22T20:45:31.048766",
     "status": "completed"
    },
    "tags": [],
    "colab": {
     "base_uri": "https://localhost:8080/"
    },
    "id": "69e4c06d",
    "executionInfo": {
     "status": "ok",
     "timestamp": 1678041770528,
     "user_tz": -60,
     "elapsed": 260,
     "user": {
      "displayName": "gibbo gibbo",
      "userId": "16540198223553695889"
     }
    },
    "outputId": "51dfbf36-bbec-4546-d145-4d7689e8c1a9"
   },
   "outputs": [
    {
     "output_type": "execute_result",
     "data": {
      "text/plain": [
       "array(['kat and andre make me sick they dont deserve to be there mkr',\n",
       "       'its melting because you didnt put it in the freezer before you served it you dumb skank mkr',\n",
       "       'rt dedicated to all those women who marched to celebrate international womens day without denouncing islam ht',\n",
       "       'rt not sexist but ill never vote for a woman president because i dont think any woman is mentally stable enough maybe',\n",
       "       'to skier dude i am so mad at you for deleting the page for barry dejay you may think your really cool but your a head i finally could of found an awesome cheat for my sons game but for stupidity ruined it hope you feel like crap that was a funny reliable sourced well argued article but your ness had to ruin it get a life and stop wikipedia on your computer all day',\n",
       "       'shut up michelle you and your communist husband are nothing but parasidic scum go back to the garbage can you came from and leave the united states of america alone you are both impostures stealing from the american people nothing more than corrupt and evil trash',\n",
       "       'yes i did look at the article and wrote an update on your talk page sorry formerly tek',\n",
       "       'the point is that the bronx doesnt go without the the therefore wikipedia shouldnt drop the the either mos or routine notwithstanding',\n",
       "       'im sorry but your retort was just unfathomably hilarious but seriously why is it other people are allowed to have screenshots as their profiles images yet somehow ciara doesnt',\n",
       "       'thousands philosophy and religion go back to the beginning of our existence',\n",
       "       'rt its not kat and andre its cuntandandre tweeps get the hashtag going mkr',\n",
       "       'sorry im not humble dick',\n",
       "       'rt i feel like youre subtweeting me with this',\n",
       "       'i apologize ive been having a bad few days some really bad stuff has been happening to me lately so im sorry for personally attacking me but will you please stop featuring me as a troll as you call it i know what i did was wrong but i dont deserve to be belittled like that i know that you told el c to block me but im okay with it because like i said i was being a loser but also ive been having a few bad days just so you know',\n",
       "       'kat and andre are the floggiest flogs to have ever flogged mkr',\n",
       "       'i have restored the section re fatih tekin ive also added aalst belgium to my watchlist however i have no opinion on the matter youre referring to feel free',\n",
       "       'thanks ill install the script and configure it for use with twinkle that response was lightning quick cheers',\n",
       "       'pictures dude i get the pointim going to fix them up stop being such a jerknazi why are you doing all this to me jeez',\n",
       "       'vandalism im damn sick and tired of idiots vandalising this page with things like omfg dale is so fucking hot no one fucking cares fuck off if you are going to do shit like that there should be an instant ban for stuff like that',\n",
       "       'hey if i could get down to la in time id get you vips with me on my dimennyou stood up again and are counted nnfront row or nose bleeds nnits van halen and at the end of the day your going thats all that mattersnnnoutstanding'],\n",
       "      dtype=object)"
      ]
     },
     "metadata": {},
     "execution_count": 8
    }
   ],
   "source": [
    "x[0:20]"
   ]
  },
  {
   "cell_type": "markdown",
   "id": "183d8636",
   "metadata": {
    "papermill": {
     "duration": 0.009969,
     "end_time": "2021-08-22T20:45:31.088393",
     "exception": false,
     "start_time": "2021-08-22T20:45:31.078424",
     "status": "completed"
    },
    "tags": [],
    "id": "183d8636"
   },
   "source": [
    "# Tokenizer\n",
    "\n",
    "BertTweet : https://huggingface.co/docs/transformers/model_doc/bertweet"
   ]
  },
  {
   "cell_type": "code",
   "execution_count": null,
   "id": "92a42a4e",
   "metadata": {
    "execution": {
     "iopub.execute_input": "2021-08-22T20:45:31.115971Z",
     "iopub.status.busy": "2021-08-22T20:45:31.115375Z",
     "iopub.status.idle": "2021-08-22T20:45:35.956292Z",
     "shell.execute_reply": "2021-08-22T20:45:35.956735Z",
     "shell.execute_reply.started": "2021-08-22T20:07:12.983876Z"
    },
    "papermill": {
     "duration": 4.858,
     "end_time": "2021-08-22T20:45:35.956914",
     "exception": false,
     "start_time": "2021-08-22T20:45:31.098914",
     "status": "completed"
    },
    "tags": [],
    "colab": {
     "base_uri": "https://localhost:8080/",
     "height": 150,
     "referenced_widgets": [
      "6e60efff018f4426a5736aa5597a7fcd",
      "5c2a9b3b698f4f3fadb837b9014cefc8",
      "c7ed2b9c11bd4709b93f8a8bcde42893",
      "a781f371da8d4788aab57be7fe42c458",
      "3850235c896846ea931b22827721f133",
      "b8951f018eb64079adfd991daed1235f",
      "2ba3002900d24364851229a36fdfa99d",
      "7545a81744144cf28313cc30de66e484",
      "55d999e77eaf492ea17520d70724b313",
      "c6a972f74eac4fbba18b7a3f52a75579",
      "153b4d1553b64c329eeb6c15cbad9588",
      "cfaf339da9e04d899d20b3597ff78776",
      "4756bef43146482688151895aef56b1e",
      "96ec90afc16d4c1e997ae1387599f87d",
      "a8c9faa21877400597e1b863e54df2f5",
      "313c3eb05e864041822961387aa42638",
      "ac5a1aa9e6f64fca9edfa1661e95cdcf",
      "f695e1f8fafc45bea8b309b5bac62c2d",
      "8e45c1c7b5144bb8b88b5e21b8b8dcff",
      "6f0ff5612b084eabab3a34885c55e465",
      "6fb5df2e8b9a403dab7e4ed5b6cdb962",
      "336eb9121a9e443487f87e134647a38b",
      "7637819540de4ec6a8f03965ddc64d64",
      "f6fea233c5bd4b38aea6203c69e4667c",
      "ca221dca1e7141d6b9dd9de661c157a5",
      "2b781bf0d6524333994596349e94c928",
      "ec0f1c7c8fe941ea899fc30b07ccabe6",
      "9ce63750cb9f478f8b27450e3f495cfa",
      "4aefe87e830c4cadae0a21b0fc1b3206",
      "14783a681c164f64b20986df4423dbf1",
      "6a5802f70ab64b70bbb1a7e2add5c7a6",
      "42836447523c467f86ff9127bd2ca7b2",
      "4f65e148e6d242b19a94e65e0f688cd0"
     ]
    },
    "id": "92a42a4e",
    "outputId": "8396254d-9924-4f0a-d97a-edd4f1672aec"
   },
   "outputs": [
    {
     "output_type": "display_data",
     "data": {
      "text/plain": [
       "Downloading (…)lve/main/config.json:   0%|          | 0.00/558 [00:00<?, ?B/s]"
      ],
      "application/vnd.jupyter.widget-view+json": {
       "version_major": 2,
       "version_minor": 0,
       "model_id": "6e60efff018f4426a5736aa5597a7fcd"
      }
     },
     "metadata": {}
    },
    {
     "output_type": "display_data",
     "data": {
      "text/plain": [
       "Downloading (…)solve/main/vocab.txt:   0%|          | 0.00/843k [00:00<?, ?B/s]"
      ],
      "application/vnd.jupyter.widget-view+json": {
       "version_major": 2,
       "version_minor": 0,
       "model_id": "cfaf339da9e04d899d20b3597ff78776"
      }
     },
     "metadata": {}
    },
    {
     "output_type": "display_data",
     "data": {
      "text/plain": [
       "Downloading (…)solve/main/bpe.codes:   0%|          | 0.00/1.08M [00:00<?, ?B/s]"
      ],
      "application/vnd.jupyter.widget-view+json": {
       "version_major": 2,
       "version_minor": 0,
       "model_id": "7637819540de4ec6a8f03965ddc64d64"
      }
     },
     "metadata": {}
    },
    {
     "output_type": "stream",
     "name": "stderr",
     "text": [
      "emoji is not installed, thus not converting emoticons or emojis into text. Install emoji: pip3 install emoji==0.6.0\n",
      "Special tokens have been added in the vocabulary, make sure the associated word embeddings are fine-tuned or trained.\n"
     ]
    }
   ],
   "source": [
    "tokenizer = AutoTokenizer.from_pretrained('vinai/bertweet-base', \n",
    "                                          normalization=True, \n",
    "                                          use_fast = False,\n",
    "                                          add_special_tokens=True,\n",
    "                                          pad_to_max_length=True,\n",
    "                                          return_attention_mask=True)\n",
    "\n",
    "train_token = tokenizer(x_train.tolist(), \n",
    "                    padding=\"max_length\", \n",
    "                    truncation=True,\n",
    "                    return_tensors = 'tf').data\n",
    "val_token = tokenizer(x_val.tolist(), \n",
    "                    padding=\"max_length\", \n",
    "                    truncation=True,\n",
    "                    return_tensors = 'tf').data\n",
    "\n",
    "train_features = {x: train_token[x] for x in tokenizer.model_input_names}\n",
    "train_tf_dataset = tf.data.Dataset.from_tensor_slices((train_features, y_train))\n",
    "train_tf_dataset = train_tf_dataset.shuffle(len(x_train)).batch(32).prefetch(tf.data.AUTOTUNE)\n",
    "\n",
    "val_features = {x: val_token[x] for x in tokenizer.model_input_names}\n",
    "val_tf_dataset = tf.data.Dataset.from_tensor_slices((val_features, y_val))\n",
    "val_tf_dataset = val_tf_dataset.shuffle(len(x_val)).batch(32).prefetch(tf.data.AUTOTUNE)"
   ]
  },
  {
   "cell_type": "markdown",
   "id": "820ea143",
   "metadata": {
    "papermill": {
     "duration": 0.011819,
     "end_time": "2021-08-22T20:45:35.980280",
     "exception": false,
     "start_time": "2021-08-22T20:45:35.968461",
     "status": "completed"
    },
    "tags": [],
    "id": "820ea143"
   },
   "source": [
    "# Train\n",
    "\n"
   ]
  },
  {
   "cell_type": "code",
   "execution_count": 10,
   "id": "4bb56947",
   "metadata": {
    "execution": {
     "iopub.execute_input": "2021-08-22T20:45:36.012859Z",
     "iopub.status.busy": "2021-08-22T20:45:36.012176Z",
     "iopub.status.idle": "2021-08-22T20:46:22.802713Z",
     "shell.execute_reply": "2021-08-22T20:46:22.801783Z",
     "shell.execute_reply.started": "2021-08-22T20:32:59.041600Z"
    },
    "papermill": {
     "duration": 46.810921,
     "end_time": "2021-08-22T20:46:22.802859",
     "exception": false,
     "start_time": "2021-08-22T20:45:35.991938",
     "status": "completed"
    },
    "tags": [],
    "colab": {
     "base_uri": "https://localhost:8080/",
     "height": 161,
     "referenced_widgets": [
      "4317c5e524f444c1973bdc40787a3694",
      "8c974be476b545799b5a3c79c2528488",
      "b1bb47f49ebb46449582e048591450f5",
      "59ce07eceec946d499465f07eee72cc1",
      "36b08f20c37f452097ac28343693bd37",
      "21821ca7b8294e0db651909b56e8f983",
      "0de8844489fb40659354d1a4f9bdf271",
      "19f651f2fcb14d51b02491475982abbe",
      "32ff59529fd14549b038444bd53cbf95",
      "4757d2cb22b94bc090670eb6200f09d0",
      "9479d2a547734f0db6a09eb9aa0aebd6"
     ]
    },
    "id": "4bb56947",
    "executionInfo": {
     "status": "ok",
     "timestamp": 1678042055473,
     "user_tz": -60,
     "elapsed": 78310,
     "user": {
      "displayName": "gibbo gibbo",
      "userId": "16540198223553695889"
     }
    },
    "outputId": "0b679eb2-542a-4e93-c82c-c24cc42b10eb"
   },
   "outputs": [
    {
     "output_type": "display_data",
     "data": {
      "text/plain": [
       "Downloading (…)\"tf_model.h5\";:   0%|          | 0.00/740M [00:00<?, ?B/s]"
      ],
      "application/vnd.jupyter.widget-view+json": {
       "version_major": 2,
       "version_minor": 0,
       "model_id": "4317c5e524f444c1973bdc40787a3694"
      }
     },
     "metadata": {}
    },
    {
     "output_type": "stream",
     "name": "stderr",
     "text": [
      "Some layers from the model checkpoint at vinai/bertweet-base were not used when initializing TFRobertaModel: ['lm_head']\n",
      "- This IS expected if you are initializing TFRobertaModel from the checkpoint of a model trained on another task or with another architecture (e.g. initializing a BertForSequenceClassification model from a BertForPreTraining model).\n",
      "- This IS NOT expected if you are initializing TFRobertaModel from the checkpoint of a model that you expect to be exactly identical (initializing a BertForSequenceClassification model from a BertForSequenceClassification model).\n",
      "All the layers of TFRobertaModel were initialized from the model checkpoint at vinai/bertweet-base.\n",
      "If your task is similar to the task the model of the checkpoint was trained on, you can already use TFRobertaModel for predictions without further training.\n"
     ]
    }
   ],
   "source": [
    "with strategy.scope():  \n",
    "    bert_model = TFRobertaModel.from_pretrained(\"vinai/bertweet-base\")\n",
    "\n",
    "def build_model(hidden_n, drop = 0.3, lr = 1e-5, weight_decay = 1e-6):\n",
    "    with strategy.scope():    \n",
    "        input_ids = tf.keras.Input(shape=(128,),dtype='int32', name = 'input_ids')\n",
    "        attention_masks = tf.keras.Input(shape=(128,),dtype='int32', name = 'attention_mask')\n",
    "\n",
    "        output = bert_model([input_ids,attention_masks])[1]\n",
    "        output = tf.keras.layers.Dense(hidden_n,activation='relu')(output)\n",
    "        output = tf.keras.layers.Dropout(drop)(output)\n",
    "        output = tf.keras.layers.Dense(1,activation='sigmoid')(output)\n",
    "\n",
    "        model = tf.keras.models.Model(inputs = [input_ids,attention_masks], outputs = output)\n",
    "\n",
    "        f1_score = tfa.metrics.F1Score(1, threshold = 0.5)\n",
    "        model.compile(tfa.optimizers.AdamW(weight_decay = weight_decay, lr=lr), \n",
    "                      loss='binary_crossentropy', \n",
    "                      metrics=['accuracy', f1_score])\n",
    "\n",
    "        # Prevent training the transformer from training again\n",
    "        model.layers[2].trainable = False\n",
    "        \n",
    "        return model"
   ]
  },
  {
   "cell_type": "code",
   "execution_count": 11,
   "id": "0e96b1e6",
   "metadata": {
    "execution": {
     "iopub.execute_input": "2021-08-22T20:46:22.850984Z",
     "iopub.status.busy": "2021-08-22T20:46:22.848101Z",
     "iopub.status.idle": "2021-08-22T20:54:35.367567Z",
     "shell.execute_reply": "2021-08-22T20:54:35.367027Z",
     "shell.execute_reply.started": "2021-08-22T20:33:10.592102Z"
    },
    "papermill": {
     "duration": 492.552678,
     "end_time": "2021-08-22T20:54:35.367725",
     "exception": false,
     "start_time": "2021-08-22T20:46:22.815047",
     "status": "completed"
    },
    "tags": [],
    "colab": {
     "base_uri": "https://localhost:8080/"
    },
    "id": "0e96b1e6",
    "executionInfo": {
     "status": "ok",
     "timestamp": 1678043915592,
     "user_tz": -60,
     "elapsed": 1444449,
     "user": {
      "displayName": "gibbo gibbo",
      "userId": "16540198223553695889"
     }
    },
    "outputId": "acc78ba0-936b-4c32-87fb-d472e63aa9ba"
   },
   "outputs": [
    {
     "metadata": {
      "tags": null
     },
     "name": "stderr",
     "output_type": "stream",
     "text": [
      "/usr/local/lib/python3.8/dist-packages/keras/optimizers/optimizer_v2/adam.py:117: UserWarning: The `lr` argument is deprecated, use `learning_rate` instead.\n",
      "  super().__init__(name, **kwargs)\n"
     ]
    },
    {
     "metadata": {
      "tags": null
     },
     "name": "stdout",
     "output_type": "stream",
     "text": [
      "Epoch 1/2\n"
     ]
    },
    {
     "metadata": {
      "tags": null
     },
     "name": "stderr",
     "output_type": "stream",
     "text": [
      "/usr/local/lib/python3.8/dist-packages/keras/engine/functional.py:638: UserWarning: Input dict contained keys ['token_type_ids'] which did not match any model input. They will be ignored by the model.\n",
      "  inputs = self._flatten_to_reference_inputs(inputs)\n",
      "WARNING:tensorflow:From /usr/local/lib/python3.8/dist-packages/tensorflow/python/autograph/pyct/static_analysis/liveness.py:83: Analyzer.lamba_check (from tensorflow.python.autograph.pyct.static_analysis.liveness) is deprecated and will be removed after 2023-09-23.\n",
      "Instructions for updating:\n",
      "Lambda fuctions will be no more assumed to be used in the statement where they are used, or at least in the same block. https://github.com/tensorflow/tensorflow/issues/56089\n"
     ]
    },
    {
     "output_type": "stream",
     "name": "stdout",
     "text": [
      "1471/1471 [==============================] - 342s 146ms/step - loss: 0.2389 - accuracy: 0.9110 - f1_score: 0.8928 - val_loss: 0.1772 - val_accuracy: 0.9313 - val_f1_score: 0.9192\n",
      "Epoch 2/2\n",
      "1471/1471 [==============================] - 154s 105ms/step - loss: 0.1585 - accuracy: 0.9444 - f1_score: 0.9336 - val_loss: 0.1742 - val_accuracy: 0.9338 - val_f1_score: 0.9219\n",
      "Epoch 1/2\n",
      "1471/1471 [==============================] - 138s 63ms/step - loss: 0.2665 - accuracy: 0.9291 - f1_score: 0.9187 - val_loss: 0.1836 - val_accuracy: 0.9334 - val_f1_score: 0.9215\n",
      "Epoch 2/2\n",
      "1471/1471 [==============================] - 69s 47ms/step - loss: 0.1263 - accuracy: 0.9591 - f1_score: 0.9511 - val_loss: 0.1843 - val_accuracy: 0.9339 - val_f1_score: 0.9217\n",
      "Epoch 1/2\n",
      "1471/1471 [==============================] - 135s 63ms/step - loss: 0.2989 - accuracy: 0.9490 - f1_score: 0.9403 - val_loss: 0.1980 - val_accuracy: 0.9329 - val_f1_score: 0.9215\n",
      "Epoch 2/2\n",
      "1471/1471 [==============================] - 69s 47ms/step - loss: 0.1480 - accuracy: 0.9591 - f1_score: 0.9513 - val_loss: 0.1768 - val_accuracy: 0.9342 - val_f1_score: 0.9224\n",
      "Epoch 1/2\n",
      "1471/1471 [==============================] - 133s 62ms/step - loss: 0.2682 - accuracy: 0.9251 - f1_score: 0.9099 - val_loss: 0.1795 - val_accuracy: 0.9336 - val_f1_score: 0.9219\n",
      "Epoch 2/2\n",
      "1471/1471 [==============================] - 70s 48ms/step - loss: 0.1224 - accuracy: 0.9599 - f1_score: 0.9519 - val_loss: 0.1818 - val_accuracy: 0.9342 - val_f1_score: 0.9221\n",
      "Epoch 1/2\n",
      "1471/1471 [==============================] - 133s 62ms/step - loss: 0.2549 - accuracy: 0.9354 - f1_score: 0.9231 - val_loss: 0.1758 - val_accuracy: 0.9341 - val_f1_score: 0.9221\n",
      "Epoch 2/2\n",
      "1471/1471 [==============================] - 70s 48ms/step - loss: 0.1218 - accuracy: 0.9596 - f1_score: 0.9516 - val_loss: 0.1835 - val_accuracy: 0.9346 - val_f1_score: 0.9225\n",
      "Epoch 1/2\n",
      "1471/1471 [==============================] - 136s 63ms/step - loss: 0.2121 - accuracy: 0.9483 - f1_score: 0.9377 - val_loss: 0.1759 - val_accuracy: 0.9339 - val_f1_score: 0.9219\n",
      "Epoch 2/2\n",
      "1471/1471 [==============================] - 69s 47ms/step - loss: 0.1163 - accuracy: 0.9594 - f1_score: 0.9514 - val_loss: 0.1831 - val_accuracy: 0.9342 - val_f1_score: 0.9220\n",
      "Epoch 1/2\n",
      "1471/1471 [==============================] - 135s 64ms/step - loss: 0.2066 - accuracy: 0.9475 - f1_score: 0.9382 - val_loss: 0.1783 - val_accuracy: 0.9339 - val_f1_score: 0.9219\n",
      "Epoch 2/2\n",
      "1471/1471 [==============================] - 70s 47ms/step - loss: 0.1157 - accuracy: 0.9600 - f1_score: 0.9520 - val_loss: 0.1839 - val_accuracy: 0.9347 - val_f1_score: 0.9225\n"
     ]
    }
   ],
   "source": [
    "grid = [{'hidden_n': 16, 'drop': 0.3, 'lr': 1e-5, 'weight_decay': 1e-6},\n",
    "        {'hidden_n': 32, 'drop': 0.3, 'lr': 1e-5, 'weight_decay': 1e-6},\n",
    "        {'hidden_n': 32, 'drop': 0.3, 'lr': 5e-6, 'weight_decay': 1e-6},\n",
    "        {'hidden_n': 32, 'drop': 0.25, 'lr': 1e-5, 'weight_decay': 5e-6},\n",
    "        {'hidden_n': 32, 'drop': 0.35, 'lr': 1e-5, 'weight_decay': 5e-7},\n",
    "        {'hidden_n': 64, 'drop': 0.3, 'lr': 1e-5, 'weight_decay': 1e-6},\n",
    "        {'hidden_n': 64, 'drop': 0.3, 'lr': 1e-5, 'weight_decay': 5e-6},\n",
    "       ]\n",
    "\n",
    "def run_loop(**kwargs):\n",
    "    model = build_model(**kwargs)\n",
    "    history = model.fit(train_tf_dataset,\n",
    "                        validation_data = val_tf_dataset,\n",
    "                        epochs = 2)\n",
    "    #save model\n",
    "    model.save(f'/content/drive/Shareddrives/TechnoRegulation/Progetto/bert_tweet/models/model{kwargs[\"hidden_n\"]}_{kwargs[\"drop\"]}_{kwargs[\"lr\"]}_{kwargs[\"weight_decay\"]}.h5')\n",
    "    return {**kwargs, 'model': model, 'f1': history.history['val_f1_score'][-1][0]}\n",
    "results = [run_loop(**params) for params in grid]"
   ]
  },
  {
   "cell_type": "code",
   "execution_count": 20,
   "id": "54cf1014",
   "metadata": {
    "execution": {
     "iopub.execute_input": "2021-08-22T20:54:35.878285Z",
     "iopub.status.busy": "2021-08-22T20:54:35.872584Z",
     "iopub.status.idle": "2021-08-22T20:54:35.893483Z",
     "shell.execute_reply": "2021-08-22T20:54:35.893041Z",
     "shell.execute_reply.started": "2021-08-22T20:39:24.919199Z"
    },
    "papermill": {
     "duration": 0.271814,
     "end_time": "2021-08-22T20:54:35.893618",
     "exception": false,
     "start_time": "2021-08-22T20:54:35.621804",
     "status": "completed"
    },
    "tags": [],
    "colab": {
     "base_uri": "https://localhost:8080/",
     "height": 269
    },
    "id": "54cf1014",
    "executionInfo": {
     "status": "ok",
     "timestamp": 1678044712578,
     "user_tz": -60,
     "elapsed": 369,
     "user": {
      "displayName": "gibbo gibbo",
      "userId": "16540198223553695889"
     }
    },
    "outputId": "3aa3c7b6-b31c-4480-8931-ec415fae727d"
   },
   "outputs": [
    {
     "output_type": "execute_result",
     "data": {
      "text/plain": [
       "   hidden_n  drop        lr  weight_decay  \\\n",
       "4        32  0.35  0.000010  5.000000e-07   \n",
       "6        64  0.30  0.000010  5.000000e-06   \n",
       "2        32  0.30  0.000005  1.000000e-06   \n",
       "3        32  0.25  0.000010  5.000000e-06   \n",
       "5        64  0.30  0.000010  1.000000e-06   \n",
       "0        16  0.30  0.000010  1.000000e-06   \n",
       "1        32  0.30  0.000010  1.000000e-06   \n",
       "\n",
       "                                               model        f1  \n",
       "4  <keras.engine.functional.Functional object at ...  0.922544  \n",
       "6  <keras.engine.functional.Functional object at ...  0.922507  \n",
       "2  <keras.engine.functional.Functional object at ...  0.922384  \n",
       "3  <keras.engine.functional.Functional object at ...  0.922083  \n",
       "5  <keras.engine.functional.Functional object at ...  0.922028  \n",
       "0  <keras.engine.functional.Functional object at ...  0.921916  \n",
       "1  <keras.engine.functional.Functional object at ...  0.921675  "
      ],
      "text/html": [
       "\n",
       "  <div id=\"df-5e0efd5f-4c97-4e84-a5f9-11fb14b4c13f\">\n",
       "    <div class=\"colab-df-container\">\n",
       "      <div>\n",
       "<style scoped>\n",
       "    .dataframe tbody tr th:only-of-type {\n",
       "        vertical-align: middle;\n",
       "    }\n",
       "\n",
       "    .dataframe tbody tr th {\n",
       "        vertical-align: top;\n",
       "    }\n",
       "\n",
       "    .dataframe thead th {\n",
       "        text-align: right;\n",
       "    }\n",
       "</style>\n",
       "<table border=\"1\" class=\"dataframe\">\n",
       "  <thead>\n",
       "    <tr style=\"text-align: right;\">\n",
       "      <th></th>\n",
       "      <th>hidden_n</th>\n",
       "      <th>drop</th>\n",
       "      <th>lr</th>\n",
       "      <th>weight_decay</th>\n",
       "      <th>model</th>\n",
       "      <th>f1</th>\n",
       "    </tr>\n",
       "  </thead>\n",
       "  <tbody>\n",
       "    <tr>\n",
       "      <th>4</th>\n",
       "      <td>32</td>\n",
       "      <td>0.35</td>\n",
       "      <td>0.000010</td>\n",
       "      <td>5.000000e-07</td>\n",
       "      <td>&lt;keras.engine.functional.Functional object at ...</td>\n",
       "      <td>0.922544</td>\n",
       "    </tr>\n",
       "    <tr>\n",
       "      <th>6</th>\n",
       "      <td>64</td>\n",
       "      <td>0.30</td>\n",
       "      <td>0.000010</td>\n",
       "      <td>5.000000e-06</td>\n",
       "      <td>&lt;keras.engine.functional.Functional object at ...</td>\n",
       "      <td>0.922507</td>\n",
       "    </tr>\n",
       "    <tr>\n",
       "      <th>2</th>\n",
       "      <td>32</td>\n",
       "      <td>0.30</td>\n",
       "      <td>0.000005</td>\n",
       "      <td>1.000000e-06</td>\n",
       "      <td>&lt;keras.engine.functional.Functional object at ...</td>\n",
       "      <td>0.922384</td>\n",
       "    </tr>\n",
       "    <tr>\n",
       "      <th>3</th>\n",
       "      <td>32</td>\n",
       "      <td>0.25</td>\n",
       "      <td>0.000010</td>\n",
       "      <td>5.000000e-06</td>\n",
       "      <td>&lt;keras.engine.functional.Functional object at ...</td>\n",
       "      <td>0.922083</td>\n",
       "    </tr>\n",
       "    <tr>\n",
       "      <th>5</th>\n",
       "      <td>64</td>\n",
       "      <td>0.30</td>\n",
       "      <td>0.000010</td>\n",
       "      <td>1.000000e-06</td>\n",
       "      <td>&lt;keras.engine.functional.Functional object at ...</td>\n",
       "      <td>0.922028</td>\n",
       "    </tr>\n",
       "    <tr>\n",
       "      <th>0</th>\n",
       "      <td>16</td>\n",
       "      <td>0.30</td>\n",
       "      <td>0.000010</td>\n",
       "      <td>1.000000e-06</td>\n",
       "      <td>&lt;keras.engine.functional.Functional object at ...</td>\n",
       "      <td>0.921916</td>\n",
       "    </tr>\n",
       "    <tr>\n",
       "      <th>1</th>\n",
       "      <td>32</td>\n",
       "      <td>0.30</td>\n",
       "      <td>0.000010</td>\n",
       "      <td>1.000000e-06</td>\n",
       "      <td>&lt;keras.engine.functional.Functional object at ...</td>\n",
       "      <td>0.921675</td>\n",
       "    </tr>\n",
       "  </tbody>\n",
       "</table>\n",
       "</div>\n",
       "      <button class=\"colab-df-convert\" onclick=\"convertToInteractive('df-5e0efd5f-4c97-4e84-a5f9-11fb14b4c13f')\"\n",
       "              title=\"Convert this dataframe to an interactive table.\"\n",
       "              style=\"display:none;\">\n",
       "        \n",
       "  <svg xmlns=\"http://www.w3.org/2000/svg\" height=\"24px\"viewBox=\"0 0 24 24\"\n",
       "       width=\"24px\">\n",
       "    <path d=\"M0 0h24v24H0V0z\" fill=\"none\"/>\n",
       "    <path d=\"M18.56 5.44l.94 2.06.94-2.06 2.06-.94-2.06-.94-.94-2.06-.94 2.06-2.06.94zm-11 1L8.5 8.5l.94-2.06 2.06-.94-2.06-.94L8.5 2.5l-.94 2.06-2.06.94zm10 10l.94 2.06.94-2.06 2.06-.94-2.06-.94-.94-2.06-.94 2.06-2.06.94z\"/><path d=\"M17.41 7.96l-1.37-1.37c-.4-.4-.92-.59-1.43-.59-.52 0-1.04.2-1.43.59L10.3 9.45l-7.72 7.72c-.78.78-.78 2.05 0 2.83L4 21.41c.39.39.9.59 1.41.59.51 0 1.02-.2 1.41-.59l7.78-7.78 2.81-2.81c.8-.78.8-2.07 0-2.86zM5.41 20L4 18.59l7.72-7.72 1.47 1.35L5.41 20z\"/>\n",
       "  </svg>\n",
       "      </button>\n",
       "      \n",
       "  <style>\n",
       "    .colab-df-container {\n",
       "      display:flex;\n",
       "      flex-wrap:wrap;\n",
       "      gap: 12px;\n",
       "    }\n",
       "\n",
       "    .colab-df-convert {\n",
       "      background-color: #E8F0FE;\n",
       "      border: none;\n",
       "      border-radius: 50%;\n",
       "      cursor: pointer;\n",
       "      display: none;\n",
       "      fill: #1967D2;\n",
       "      height: 32px;\n",
       "      padding: 0 0 0 0;\n",
       "      width: 32px;\n",
       "    }\n",
       "\n",
       "    .colab-df-convert:hover {\n",
       "      background-color: #E2EBFA;\n",
       "      box-shadow: 0px 1px 2px rgba(60, 64, 67, 0.3), 0px 1px 3px 1px rgba(60, 64, 67, 0.15);\n",
       "      fill: #174EA6;\n",
       "    }\n",
       "\n",
       "    [theme=dark] .colab-df-convert {\n",
       "      background-color: #3B4455;\n",
       "      fill: #D2E3FC;\n",
       "    }\n",
       "\n",
       "    [theme=dark] .colab-df-convert:hover {\n",
       "      background-color: #434B5C;\n",
       "      box-shadow: 0px 1px 3px 1px rgba(0, 0, 0, 0.15);\n",
       "      filter: drop-shadow(0px 1px 2px rgba(0, 0, 0, 0.3));\n",
       "      fill: #FFFFFF;\n",
       "    }\n",
       "  </style>\n",
       "\n",
       "      <script>\n",
       "        const buttonEl =\n",
       "          document.querySelector('#df-5e0efd5f-4c97-4e84-a5f9-11fb14b4c13f button.colab-df-convert');\n",
       "        buttonEl.style.display =\n",
       "          google.colab.kernel.accessAllowed ? 'block' : 'none';\n",
       "\n",
       "        async function convertToInteractive(key) {\n",
       "          const element = document.querySelector('#df-5e0efd5f-4c97-4e84-a5f9-11fb14b4c13f');\n",
       "          const dataTable =\n",
       "            await google.colab.kernel.invokeFunction('convertToInteractive',\n",
       "                                                     [key], {});\n",
       "          if (!dataTable) return;\n",
       "\n",
       "          const docLinkHtml = 'Like what you see? Visit the ' +\n",
       "            '<a target=\"_blank\" href=https://colab.research.google.com/notebooks/data_table.ipynb>data table notebook</a>'\n",
       "            + ' to learn more about interactive tables.';\n",
       "          element.innerHTML = '';\n",
       "          dataTable['output_type'] = 'display_data';\n",
       "          await google.colab.output.renderOutput(dataTable, element);\n",
       "          const docLink = document.createElement('div');\n",
       "          docLink.innerHTML = docLinkHtml;\n",
       "          element.appendChild(docLink);\n",
       "        }\n",
       "      </script>\n",
       "    </div>\n",
       "  </div>\n",
       "  "
      ]
     },
     "metadata": {},
     "execution_count": 20
    }
   ],
   "source": [
    "results = pd.DataFrame(results).sort_values('f1', ascending=False)\n",
    "model = results.model[4]\n",
    "\n",
    "results"
   ]
  },
  {
   "cell_type": "markdown",
   "id": "289d94ca",
   "metadata": {
    "papermill": {
     "duration": 0.245843,
     "end_time": "2021-08-22T20:54:36.390013",
     "exception": false,
     "start_time": "2021-08-22T20:54:36.144170",
     "status": "completed"
    },
    "tags": [],
    "id": "289d94ca"
   },
   "source": [
    "# Predict on test set"
   ]
  },
  {
   "cell_type": "code",
   "execution_count": 21,
   "id": "fef10452",
   "metadata": {
    "execution": {
     "iopub.execute_input": "2021-08-22T20:54:36.890720Z",
     "iopub.status.busy": "2021-08-22T20:54:36.890073Z",
     "iopub.status.idle": "2021-08-22T20:54:48.795030Z",
     "shell.execute_reply": "2021-08-22T20:54:48.795479Z",
     "shell.execute_reply.started": "2021-08-22T20:40:49.828861Z"
    },
    "papermill": {
     "duration": 12.160701,
     "end_time": "2021-08-22T20:54:48.795693",
     "exception": false,
     "start_time": "2021-08-22T20:54:36.634992",
     "status": "completed"
    },
    "tags": [],
    "colab": {
     "base_uri": "https://localhost:8080/"
    },
    "id": "fef10452",
    "executionInfo": {
     "status": "ok",
     "timestamp": 1678044816968,
     "user_tz": -60,
     "elapsed": 95351,
     "user": {
      "displayName": "gibbo gibbo",
      "userId": "16540198223553695889"
     }
    },
    "outputId": "c194e792-44aa-44f6-9b87-660665836435"
   },
   "outputs": [
    {
     "output_type": "stream",
     "name": "stderr",
     "text": [
      "/usr/local/lib/python3.8/dist-packages/keras/engine/functional.py:638: UserWarning: Input dict contained keys ['token_type_ids'] which did not match any model input. They will be ignored by the model.\n",
      "  inputs = self._flatten_to_reference_inputs(inputs)\n"
     ]
    },
    {
     "output_type": "stream",
     "name": "stdout",
     "text": [
      "701/701 [==============================] - 42s 46ms/step\n"
     ]
    }
   ],
   "source": [
    "TEST_PATH = \"/content/drive/Shareddrives/TechnoRegulation/Progetto/splitting/Test.csv\"\n",
    "df = pd.read_csv(TEST_PATH)\n",
    "x = (df['Text']\n",
    "     .str.lower()     \n",
    "     .str.replace('\\x89Ûª|Ûª', \"'\")\n",
    "     .str.replace('\\n|\\x89.|\\x9d *', ' ')\n",
    "     .str.replace('&gt;', \">\")\n",
    "     .str.replace('&lt;', \"<\")\n",
    "     .str.replace('&amp;', \" and \")\n",
    "     .str.replace('won\\'t', 'will not')\n",
    "     .str.replace('can\\'t', 'cannot')\n",
    "     .str.replace('i\\'m', 'i am')\n",
    "     .str.replace('ain\\'t', 'is not')\n",
    "     .str.replace('hwy.', 'highway')\n",
    "     .str.replace('(\\w+)\\'ll', '\\g<1> will')\n",
    "     .str.replace('(\\w+)n\\'t', '\\g<1> not')\n",
    "     .str.replace('(\\w+)\\'ve', '\\g<1> have')\n",
    "     .str.replace('(\\w+)\\'s', '\\g<1> is')\n",
    "     .str.replace('(\\w+)\\'re', '\\g<1> are')\n",
    "     .str.replace('(\\w+)\\'d', '\\g<1> would')     \n",
    "     .str.replace('(\\w+)\\'m', '\\g<1> am')\n",
    "     .str.replace('<3', 'love')\n",
    "     .str.replace('w/e', 'whatever')\n",
    "     .str.replace('w/', 'with')    \n",
    "     .str.replace('\\b', ' ')\n",
    "     .str.replace('-', ' ')\n",
    "     .str.replace('  *', ' ')\n",
    "     .str.strip()\n",
    "     .to_numpy()\n",
    "    )\n",
    "\n",
    "token = tokenizer(x.tolist(), \n",
    "                  padding=\"max_length\", \n",
    "                  truncation=True,\n",
    "                  return_tensors = 'tf').data\n",
    "\n",
    "df['p'] = model.predict(token)\n",
    "df['target'] = (df['p'] > 0.5).astype(int)"
   ]
  },
  {
   "cell_type": "markdown",
   "source": [
    "# Accuracy Metrics"
   ],
   "metadata": {
    "collapsed": false
   }
  },
  {
   "cell_type": "code",
   "source": [
    "def b_tp(preds, labels):\n",
    "  '''Returns True Positives (TP): count of correct predictions of actual class 1'''\n",
    "  return sum([preds == labels and preds == 1 for preds, labels in zip(preds, labels)])\n",
    "\n",
    "def b_fp(preds, labels):\n",
    "  '''Returns False Positives (FP): count of wrong predictions of actual class 1'''\n",
    "  return sum([preds != labels and preds == 1 for preds, labels in zip(preds, labels)])\n",
    "\n",
    "def b_tn(preds, labels):\n",
    "  '''Returns True Negatives (TN): count of correct predictions of actual class 0'''\n",
    "  return sum([preds == labels and preds == 0 for preds, labels in zip(preds, labels)])\n",
    "\n",
    "def b_fn(preds, labels):\n",
    "  '''Returns False Negatives (FN): count of wrong predictions of actual class 0'''\n",
    "  return sum([preds != labels and preds == 0 for preds, labels in zip(preds, labels)])\n",
    "\n",
    "def b_metrics(preds, labels):\n",
    "  '''\n",
    "  Returns the following metrics:\n",
    "    - accuracy    = (TP + TN) / N\n",
    "    - precision   = TP / (TP + FP)\n",
    "    - recall      = TP / (TP + FN)\n",
    "    - specificity = TN / (TN + FP)\n",
    "  '''\n",
    "  tp = b_tp(preds, labels)\n",
    "  tn = b_tn(preds, labels)\n",
    "  fp = b_fp(preds, labels)\n",
    "  fn = b_fn(preds, labels)\n",
    "  b_accuracy = ((tp + tn) / len(labels))[0]\n",
    "  b_precision = (tp / (tp + fp) if (tp + fp) > 0 else 'nan')[0]\n",
    "  b_recall = (tp / (tp + fn) if (tp + fn) > 0 else 'nan')[0]\n",
    "  b_specificity = (tn / (tn + fp) if (tn + fp) > 0 else 'nan')[0]\n",
    "  b_f_measure = (2* (b_precision*b_recall)/(b_precision + b_recall))\n",
    "  b_metrics = {\"Accuracy\": b_accuracy,\n",
    "               \"Precision\": b_precision,\n",
    "               \"Recall\": b_recall,\n",
    "               \"Specificity\": b_specificity,\n",
    "               \"F1\": b_f_measure}\n",
    "  return b_metrics"
   ],
   "metadata": {
    "id": "xbPIK2DQR8LD",
    "executionInfo": {
     "status": "ok",
     "timestamp": 1678046161613,
     "user_tz": -60,
     "elapsed": 266,
     "user": {
      "displayName": "gibbo gibbo",
      "userId": "16540198223553695889"
     }
    }
   },
   "id": "xbPIK2DQR8LD",
   "execution_count": 41,
   "outputs": []
  },
  {
   "cell_type": "code",
   "source": [
    "print(model)"
   ],
   "metadata": {
    "colab": {
     "base_uri": "https://localhost:8080/"
    },
    "id": "js9w2zKpXgtj",
    "executionInfo": {
     "status": "ok",
     "timestamp": 1678046539735,
     "user_tz": -60,
     "elapsed": 250,
     "user": {
      "displayName": "gibbo gibbo",
      "userId": "16540198223553695889"
     }
    },
    "outputId": "16945c85-f6d9-415f-ceda-ecba5203f7a7"
   },
   "id": "js9w2zKpXgtj",
   "execution_count": 47,
   "outputs": [
    {
     "output_type": "stream",
     "name": "stdout",
     "text": [
      "<keras.engine.functional.Functional object at 0x7f34ab4513d0>\n"
     ]
    }
   ]
  },
  {
   "cell_type": "markdown",
   "source": [
    "# Test"
   ],
   "metadata": {
    "collapsed": false
   }
  },
  {
   "cell_type": "code",
   "source": [
    "test_results = pd.DataFrame(columns=['model', 'accuracy', 'f1', 'precision', 'recall'])\n",
    "for i in range(0,6):\n",
    "  p = results.model[i].predict(token)\n",
    "  target = (p > 0.5).astype(int)\n",
    "  metrics = b_metrics(target, df['class_label'])\n",
    "  print(metrics)\n",
    "  cell = grid[i]\n",
    "  model_name=f'model{cell[\"hidden_n\"]}_{cell[\"drop\"]}_{cell[\"lr\"]}_{cell[\"weight_decay\"]}'\n",
    "  test_results = test_results.append({'model': model_name, 'accuracy': metrics['Accuracy'], 'f1': metrics['F1'], 'precision': metrics['Precision'], 'recall': metrics['Recall']}, ignore_index=True)\n"
   ],
   "metadata": {
    "colab": {
     "base_uri": "https://localhost:8080/",
     "height": 582
    },
    "id": "P2clhHv9Q1W4",
    "executionInfo": {
     "status": "error",
     "timestamp": 1678046960908,
     "user_tz": -60,
     "elapsed": 156458,
     "user": {
      "displayName": "gibbo gibbo",
      "userId": "16540198223553695889"
     }
    },
    "outputId": "5cfd9951-53f2-4a11-9e48-fb7b1c4378d9"
   },
   "id": "P2clhHv9Q1W4",
   "execution_count": 49,
   "outputs": [
    {
     "output_type": "stream",
     "name": "stdout",
     "text": [
      "701/701 [==============================] - 27s 36ms/step\n",
      "{'Accuracy': 0.934654525977504, 'Precision': 0.9060103626943005, 'Recall': 0.9401075268817204, 'Specificity': 0.9307844932844933, 'F1': 0.9227440633245382}\n",
      "701/701 [==============================] - 24s 33ms/step\n",
      "{'Accuracy': 0.9353240492769148, 'Precision': 0.9107460500156953, 'Recall': 0.9359139784946237, 'Specificity': 0.9349053724053724, 'F1': 0.9231585087765816}\n",
      "701/701 [==============================] - 22s 30ms/step\n",
      "{'Accuracy': 0.934654525977504, 'Precision': 0.9067691029900332, 'Recall': 0.9391397849462365, 'Specificity': 0.9314713064713065, 'F1': 0.9226706106063807}\n",
      "701/701 [==============================] - 22s 30ms/step\n",
      "{'Accuracy': 0.9359489376896982, 'Precision': 0.9115646258503401, 'Recall': 0.9365591397849462, 'Specificity': 0.935515873015873, 'F1': 0.9238928666136302}\n",
      "701/701 [==============================] - 24s 32ms/step\n",
      "{'Accuracy': 0.9359489376896982, 'Precision': 0.9111343439623628, 'Recall': 0.9370967741935484, 'Specificity': 0.9351343101343101, 'F1': 0.9239332096474954}\n",
      "701/701 [==============================] - 20s 27ms/step\n",
      "{'Accuracy': 0.9356364934833066, 'Precision': 0.9112413648733515, 'Recall': 0.9361290322580645, 'Specificity': 0.9352869352869353, 'F1': 0.9235175559562958}\n"
     ]
    },
    {
     "output_type": "error",
     "ename": "FileNotFoundError",
     "evalue": "ignored",
     "traceback": [
      "\u001B[0;31m---------------------------------------------------------------------------\u001B[0m",
      "\u001B[0;31mFileNotFoundError\u001B[0m                         Traceback (most recent call last)",
      "\u001B[0;32m<ipython-input-49-3f7386ff9dc6>\u001B[0m in \u001B[0;36m<module>\u001B[0;34m\u001B[0m\n\u001B[1;32m      8\u001B[0m   \u001B[0mmodel_name\u001B[0m\u001B[0;34m=\u001B[0m\u001B[0;34mf'model{cell[\"hidden_n\"]}_{cell[\"drop\"]}_{cell[\"lr\"]}_{cell[\"weight_decay\"]}'\u001B[0m\u001B[0;34m\u001B[0m\u001B[0;34m\u001B[0m\u001B[0m\n\u001B[1;32m      9\u001B[0m   \u001B[0mtest_results\u001B[0m \u001B[0;34m=\u001B[0m \u001B[0mtest_results\u001B[0m\u001B[0;34m.\u001B[0m\u001B[0mappend\u001B[0m\u001B[0;34m(\u001B[0m\u001B[0;34m{\u001B[0m\u001B[0;34m'model'\u001B[0m\u001B[0;34m:\u001B[0m \u001B[0mmodel_name\u001B[0m\u001B[0;34m,\u001B[0m \u001B[0;34m'accuracy'\u001B[0m\u001B[0;34m:\u001B[0m \u001B[0mmetrics\u001B[0m\u001B[0;34m[\u001B[0m\u001B[0;34m'Accuracy'\u001B[0m\u001B[0;34m]\u001B[0m\u001B[0;34m,\u001B[0m \u001B[0;34m'f1'\u001B[0m\u001B[0;34m:\u001B[0m \u001B[0mmetrics\u001B[0m\u001B[0;34m[\u001B[0m\u001B[0;34m'F1'\u001B[0m\u001B[0;34m]\u001B[0m\u001B[0;34m,\u001B[0m \u001B[0;34m'precision'\u001B[0m\u001B[0;34m:\u001B[0m \u001B[0mmetrics\u001B[0m\u001B[0;34m[\u001B[0m\u001B[0;34m'Precision'\u001B[0m\u001B[0;34m]\u001B[0m\u001B[0;34m,\u001B[0m \u001B[0;34m'recall'\u001B[0m\u001B[0;34m:\u001B[0m \u001B[0mmetrics\u001B[0m\u001B[0;34m[\u001B[0m\u001B[0;34m'Recall'\u001B[0m\u001B[0;34m]\u001B[0m\u001B[0;34m}\u001B[0m\u001B[0;34m,\u001B[0m \u001B[0mignore_index\u001B[0m\u001B[0;34m=\u001B[0m\u001B[0;32mTrue\u001B[0m\u001B[0;34m)\u001B[0m\u001B[0;34m\u001B[0m\u001B[0;34m\u001B[0m\u001B[0m\n\u001B[0;32m---> 10\u001B[0;31m \u001B[0mtest_results\u001B[0m\u001B[0;34m.\u001B[0m\u001B[0mto_csv\u001B[0m\u001B[0;34m(\u001B[0m\u001B[0;34m'content/drive/Shareddrives/TechnoRegulation/Progetto/bert_tweet/results/test_results.csv'\u001B[0m\u001B[0;34m)\u001B[0m\u001B[0;34m\u001B[0m\u001B[0;34m\u001B[0m\u001B[0m\n\u001B[0m",
      "\u001B[0;32m/usr/local/lib/python3.8/dist-packages/pandas/core/generic.py\u001B[0m in \u001B[0;36mto_csv\u001B[0;34m(self, path_or_buf, sep, na_rep, float_format, columns, header, index, index_label, mode, encoding, compression, quoting, quotechar, line_terminator, chunksize, date_format, doublequote, escapechar, decimal, errors, storage_options)\u001B[0m\n\u001B[1;32m   3464\u001B[0m         )\n\u001B[1;32m   3465\u001B[0m \u001B[0;34m\u001B[0m\u001B[0m\n\u001B[0;32m-> 3466\u001B[0;31m         return DataFrameRenderer(formatter).to_csv(\n\u001B[0m\u001B[1;32m   3467\u001B[0m             \u001B[0mpath_or_buf\u001B[0m\u001B[0;34m,\u001B[0m\u001B[0;34m\u001B[0m\u001B[0;34m\u001B[0m\u001B[0m\n\u001B[1;32m   3468\u001B[0m             \u001B[0mline_terminator\u001B[0m\u001B[0;34m=\u001B[0m\u001B[0mline_terminator\u001B[0m\u001B[0;34m,\u001B[0m\u001B[0;34m\u001B[0m\u001B[0;34m\u001B[0m\u001B[0m\n",
      "\u001B[0;32m/usr/local/lib/python3.8/dist-packages/pandas/io/formats/format.py\u001B[0m in \u001B[0;36mto_csv\u001B[0;34m(self, path_or_buf, encoding, sep, columns, index_label, mode, compression, quoting, quotechar, line_terminator, chunksize, date_format, doublequote, escapechar, errors, storage_options)\u001B[0m\n\u001B[1;32m   1103\u001B[0m             \u001B[0mformatter\u001B[0m\u001B[0;34m=\u001B[0m\u001B[0mself\u001B[0m\u001B[0;34m.\u001B[0m\u001B[0mfmt\u001B[0m\u001B[0;34m,\u001B[0m\u001B[0;34m\u001B[0m\u001B[0;34m\u001B[0m\u001B[0m\n\u001B[1;32m   1104\u001B[0m         )\n\u001B[0;32m-> 1105\u001B[0;31m         \u001B[0mcsv_formatter\u001B[0m\u001B[0;34m.\u001B[0m\u001B[0msave\u001B[0m\u001B[0;34m(\u001B[0m\u001B[0;34m)\u001B[0m\u001B[0;34m\u001B[0m\u001B[0;34m\u001B[0m\u001B[0m\n\u001B[0m\u001B[1;32m   1106\u001B[0m \u001B[0;34m\u001B[0m\u001B[0m\n\u001B[1;32m   1107\u001B[0m         \u001B[0;32mif\u001B[0m \u001B[0mcreated_buffer\u001B[0m\u001B[0;34m:\u001B[0m\u001B[0;34m\u001B[0m\u001B[0;34m\u001B[0m\u001B[0m\n",
      "\u001B[0;32m/usr/local/lib/python3.8/dist-packages/pandas/io/formats/csvs.py\u001B[0m in \u001B[0;36msave\u001B[0;34m(self)\u001B[0m\n\u001B[1;32m    235\u001B[0m         \"\"\"\n\u001B[1;32m    236\u001B[0m         \u001B[0;31m# apply compression and byte/text conversion\u001B[0m\u001B[0;34m\u001B[0m\u001B[0;34m\u001B[0m\u001B[0;34m\u001B[0m\u001B[0m\n\u001B[0;32m--> 237\u001B[0;31m         with get_handle(\n\u001B[0m\u001B[1;32m    238\u001B[0m             \u001B[0mself\u001B[0m\u001B[0;34m.\u001B[0m\u001B[0mfilepath_or_buffer\u001B[0m\u001B[0;34m,\u001B[0m\u001B[0;34m\u001B[0m\u001B[0;34m\u001B[0m\u001B[0m\n\u001B[1;32m    239\u001B[0m             \u001B[0mself\u001B[0m\u001B[0;34m.\u001B[0m\u001B[0mmode\u001B[0m\u001B[0;34m,\u001B[0m\u001B[0;34m\u001B[0m\u001B[0;34m\u001B[0m\u001B[0m\n",
      "\u001B[0;32m/usr/local/lib/python3.8/dist-packages/pandas/io/common.py\u001B[0m in \u001B[0;36mget_handle\u001B[0;34m(path_or_buf, mode, encoding, compression, memory_map, is_text, errors, storage_options)\u001B[0m\n\u001B[1;32m    700\u001B[0m         \u001B[0;32mif\u001B[0m \u001B[0mioargs\u001B[0m\u001B[0;34m.\u001B[0m\u001B[0mencoding\u001B[0m \u001B[0;32mand\u001B[0m \u001B[0;34m\"b\"\u001B[0m \u001B[0;32mnot\u001B[0m \u001B[0;32min\u001B[0m \u001B[0mioargs\u001B[0m\u001B[0;34m.\u001B[0m\u001B[0mmode\u001B[0m\u001B[0;34m:\u001B[0m\u001B[0;34m\u001B[0m\u001B[0;34m\u001B[0m\u001B[0m\n\u001B[1;32m    701\u001B[0m             \u001B[0;31m# Encoding\u001B[0m\u001B[0;34m\u001B[0m\u001B[0;34m\u001B[0m\u001B[0;34m\u001B[0m\u001B[0m\n\u001B[0;32m--> 702\u001B[0;31m             handle = open(\n\u001B[0m\u001B[1;32m    703\u001B[0m                 \u001B[0mhandle\u001B[0m\u001B[0;34m,\u001B[0m\u001B[0;34m\u001B[0m\u001B[0;34m\u001B[0m\u001B[0m\n\u001B[1;32m    704\u001B[0m                 \u001B[0mioargs\u001B[0m\u001B[0;34m.\u001B[0m\u001B[0mmode\u001B[0m\u001B[0;34m,\u001B[0m\u001B[0;34m\u001B[0m\u001B[0;34m\u001B[0m\u001B[0m\n",
      "\u001B[0;31mFileNotFoundError\u001B[0m: [Errno 2] No such file or directory: 'content/drive/Shareddrives/TechnoRegulation/Progetto/bert_tweet/results/test_results.csv'"
     ]
    }
   ]
  },
  {
   "cell_type": "code",
   "source": [
    "test_results.to_csv('/content/drive/Shareddrives/TechnoRegulation/Progetto/bert_tweet/results/test_results.csv')\n",
    "\n"
   ],
   "metadata": {
    "id": "BS9Ws9qhZiyg",
    "executionInfo": {
     "status": "ok",
     "timestamp": 1678047126605,
     "user_tz": -60,
     "elapsed": 617,
     "user": {
      "displayName": "gibbo gibbo",
      "userId": "16540198223553695889"
     }
    }
   },
   "id": "BS9Ws9qhZiyg",
   "execution_count": 51,
   "outputs": []
  },
  {
   "cell_type": "markdown",
   "source": [
    "# Plot the percentage of predictions for each class, to analyze the model's confidence"
   ],
   "metadata": {
    "collapsed": false
   }
  },
  {
   "cell_type": "code",
   "execution_count": 16,
   "id": "aca5a8b5",
   "metadata": {
    "execution": {
     "iopub.execute_input": "2021-08-22T20:54:49.294826Z",
     "iopub.status.busy": "2021-08-22T20:54:49.294143Z",
     "iopub.status.idle": "2021-08-22T20:54:49.470686Z",
     "shell.execute_reply": "2021-08-22T20:54:49.470199Z",
     "shell.execute_reply.started": "2021-08-22T20:41:17.430607Z"
    },
    "papermill": {
     "duration": 0.426273,
     "end_time": "2021-08-22T20:54:49.470827",
     "exception": false,
     "start_time": "2021-08-22T20:54:49.044554",
     "status": "completed"
    },
    "tags": [],
    "colab": {
     "base_uri": "https://localhost:8080/",
     "height": 265
    },
    "id": "aca5a8b5",
    "executionInfo": {
     "status": "ok",
     "timestamp": 1678044173075,
     "user_tz": -60,
     "elapsed": 735,
     "user": {
      "displayName": "gibbo gibbo",
      "userId": "16540198223553695889"
     }
    },
    "outputId": "942208de-47b4-438e-f2a6-a2ca495af519"
   },
   "outputs": [
    {
     "output_type": "display_data",
     "data": {
      "text/plain": [
       "<Figure size 432x288 with 1 Axes>"
      ],
      "image/png": "[encoded data removed]"
     },
     "metadata": {
      "needs_background": "light"
     }
    }
   ],
   "source": [
    "df['p'].hist();"
   ]
  }
 ],
 "metadata": {
  "kernelspec": {
   "display_name": "Python 3",
   "language": "python",
   "name": "python3"
  },
  "language_info": {
   "codemirror_mode": {
    "name": "ipython",
    "version": 3
   },
   "file_extension": ".py",
   "mimetype": "text/x-python",
   "name": "python",
   "nbconvert_exporter": "python",
   "pygments_lexer": "ipython3",
   "version": "3.7.10"
  },
  "papermill": {
   "default_parameters": {},
   "duration": 583.926397,
   "end_time": "2021-08-22T20:54:53.311099",
   "environment_variables": {},
   "exception": null,
   "input_path": "__notebook__.ipynb",
   "output_path": "__notebook__.ipynb",
   "parameters": {},
   "start_time": "2021-08-22T20:45:09.384702",
   "version": "2.3.3"
  },
  "widgets": {
   "application/vnd.jupyter.widget-state+json": {
    "6e60efff018f4426a5736aa5597a7fcd": {
     "model_module": "@jupyter-widgets/controls",
     "model_name": "HBoxModel",
     "model_module_version": "1.5.0",
     "state": {
      "_dom_classes": [],
      "_model_module": "@jupyter-widgets/controls",
      "_model_module_version": "1.5.0",
      "_model_name": "HBoxModel",
      "_view_count": null,
      "_view_module": "@jupyter-widgets/controls",
      "_view_module_version": "1.5.0",
      "_view_name": "HBoxView",
      "box_style": "",
      "children": [
       "IPY_MODEL_5c2a9b3b698f4f3fadb837b9014cefc8",
       "IPY_MODEL_c7ed2b9c11bd4709b93f8a8bcde42893",
       "IPY_MODEL_a781f371da8d4788aab57be7fe42c458"
      ],
      "layout": "IPY_MODEL_3850235c896846ea931b22827721f133"
     }
    },
    "5c2a9b3b698f4f3fadb837b9014cefc8": {
     "model_module": "@jupyter-widgets/controls",
     "model_name": "HTMLModel",
     "model_module_version": "1.5.0",
     "state": {
      "_dom_classes": [],
      "_model_module": "@jupyter-widgets/controls",
      "_model_module_version": "1.5.0",
      "_model_name": "HTMLModel",
      "_view_count": null,
      "_view_module": "@jupyter-widgets/controls",
      "_view_module_version": "1.5.0",
      "_view_name": "HTMLView",
      "description": "",
      "description_tooltip": null,
      "layout": "IPY_MODEL_b8951f018eb64079adfd991daed1235f",
      "placeholder": "​",
      "style": "IPY_MODEL_2ba3002900d24364851229a36fdfa99d",
      "value": "Downloading (…)lve/main/config.json: 100%"
     }
    },
    "c7ed2b9c11bd4709b93f8a8bcde42893": {
     "model_module": "@jupyter-widgets/controls",
     "model_name": "FloatProgressModel",
     "model_module_version": "1.5.0",
     "state": {
      "_dom_classes": [],
      "_model_module": "@jupyter-widgets/controls",
      "_model_module_version": "1.5.0",
      "_model_name": "FloatProgressModel",
      "_view_count": null,
      "_view_module": "@jupyter-widgets/controls",
      "_view_module_version": "1.5.0",
      "_view_name": "ProgressView",
      "bar_style": "success",
      "description": "",
      "description_tooltip": null,
      "layout": "IPY_MODEL_7545a81744144cf28313cc30de66e484",
      "max": 558,
      "min": 0,
      "orientation": "horizontal",
      "style": "IPY_MODEL_55d999e77eaf492ea17520d70724b313",
      "value": 558
     }
    },
    "a781f371da8d4788aab57be7fe42c458": {
     "model_module": "@jupyter-widgets/controls",
     "model_name": "HTMLModel",
     "model_module_version": "1.5.0",
     "state": {
      "_dom_classes": [],
      "_model_module": "@jupyter-widgets/controls",
      "_model_module_version": "1.5.0",
      "_model_name": "HTMLModel",
      "_view_count": null,
      "_view_module": "@jupyter-widgets/controls",
      "_view_module_version": "1.5.0",
      "_view_name": "HTMLView",
      "description": "",
      "description_tooltip": null,
      "layout": "IPY_MODEL_c6a972f74eac4fbba18b7a3f52a75579",
      "placeholder": "​",
      "style": "IPY_MODEL_153b4d1553b64c329eeb6c15cbad9588",
      "value": " 558/558 [00:00&lt;00:00, 3.70kB/s]"
     }
    },
    "3850235c896846ea931b22827721f133": {
     "model_module": "@jupyter-widgets/base",
     "model_name": "LayoutModel",
     "model_module_version": "1.2.0",
     "state": {
      "_model_module": "@jupyter-widgets/base",
      "_model_module_version": "1.2.0",
      "_model_name": "LayoutModel",
      "_view_count": null,
      "_view_module": "@jupyter-widgets/base",
      "_view_module_version": "1.2.0",
      "_view_name": "LayoutView",
      "align_content": null,
      "align_items": null,
      "align_self": null,
      "border": null,
      "bottom": null,
      "display": null,
      "flex": null,
      "flex_flow": null,
      "grid_area": null,
      "grid_auto_columns": null,
      "grid_auto_flow": null,
      "grid_auto_rows": null,
      "grid_column": null,
      "grid_gap": null,
      "grid_row": null,
      "grid_template_areas": null,
      "grid_template_columns": null,
      "grid_template_rows": null,
      "height": null,
      "justify_content": null,
      "justify_items": null,
      "left": null,
      "margin": null,
      "max_height": null,
      "max_width": null,
      "min_height": null,
      "min_width": null,
      "object_fit": null,
      "object_position": null,
      "order": null,
      "overflow": null,
      "overflow_x": null,
      "overflow_y": null,
      "padding": null,
      "right": null,
      "top": null,
      "visibility": null,
      "width": null
     }
    },
    "b8951f018eb64079adfd991daed1235f": {
     "model_module": "@jupyter-widgets/base",
     "model_name": "LayoutModel",
     "model_module_version": "1.2.0",
     "state": {
      "_model_module": "@jupyter-widgets/base",
      "_model_module_version": "1.2.0",
      "_model_name": "LayoutModel",
      "_view_count": null,
      "_view_module": "@jupyter-widgets/base",
      "_view_module_version": "1.2.0",
      "_view_name": "LayoutView",
      "align_content": null,
      "align_items": null,
      "align_self": null,
      "border": null,
      "bottom": null,
      "display": null,
      "flex": null,
      "flex_flow": null,
      "grid_area": null,
      "grid_auto_columns": null,
      "grid_auto_flow": null,
      "grid_auto_rows": null,
      "grid_column": null,
      "grid_gap": null,
      "grid_row": null,
      "grid_template_areas": null,
      "grid_template_columns": null,
      "grid_template_rows": null,
      "height": null,
      "justify_content": null,
      "justify_items": null,
      "left": null,
      "margin": null,
      "max_height": null,
      "max_width": null,
      "min_height": null,
      "min_width": null,
      "object_fit": null,
      "object_position": null,
      "order": null,
      "overflow": null,
      "overflow_x": null,
      "overflow_y": null,
      "padding": null,
      "right": null,
      "top": null,
      "visibility": null,
      "width": null
     }
    },
    "2ba3002900d24364851229a36fdfa99d": {
     "model_module": "@jupyter-widgets/controls",
     "model_name": "DescriptionStyleModel",
     "model_module_version": "1.5.0",
     "state": {
      "_model_module": "@jupyter-widgets/controls",
      "_model_module_version": "1.5.0",
      "_model_name": "DescriptionStyleModel",
      "_view_count": null,
      "_view_module": "@jupyter-widgets/base",
      "_view_module_version": "1.2.0",
      "_view_name": "StyleView",
      "description_width": ""
     }
    },
    "7545a81744144cf28313cc30de66e484": {
     "model_module": "@jupyter-widgets/base",
     "model_name": "LayoutModel",
     "model_module_version": "1.2.0",
     "state": {
      "_model_module": "@jupyter-widgets/base",
      "_model_module_version": "1.2.0",
      "_model_name": "LayoutModel",
      "_view_count": null,
      "_view_module": "@jupyter-widgets/base",
      "_view_module_version": "1.2.0",
      "_view_name": "LayoutView",
      "align_content": null,
      "align_items": null,
      "align_self": null,
      "border": null,
      "bottom": null,
      "display": null,
      "flex": null,
      "flex_flow": null,
      "grid_area": null,
      "grid_auto_columns": null,
      "grid_auto_flow": null,
      "grid_auto_rows": null,
      "grid_column": null,
      "grid_gap": null,
      "grid_row": null,
      "grid_template_areas": null,
      "grid_template_columns": null,
      "grid_template_rows": null,
      "height": null,
      "justify_content": null,
      "justify_items": null,
      "left": null,
      "margin": null,
      "max_height": null,
      "max_width": null,
      "min_height": null,
      "min_width": null,
      "object_fit": null,
      "object_position": null,
      "order": null,
      "overflow": null,
      "overflow_x": null,
      "overflow_y": null,
      "padding": null,
      "right": null,
      "top": null,
      "visibility": null,
      "width": null
     }
    },
    "55d999e77eaf492ea17520d70724b313": {
     "model_module": "@jupyter-widgets/controls",
     "model_name": "ProgressStyleModel",
     "model_module_version": "1.5.0",
     "state": {
      "_model_module": "@jupyter-widgets/controls",
      "_model_module_version": "1.5.0",
      "_model_name": "ProgressStyleModel",
      "_view_count": null,
      "_view_module": "@jupyter-widgets/base",
      "_view_module_version": "1.2.0",
      "_view_name": "StyleView",
      "bar_color": null,
      "description_width": ""
     }
    },
    "c6a972f74eac4fbba18b7a3f52a75579": {
     "model_module": "@jupyter-widgets/base",
     "model_name": "LayoutModel",
     "model_module_version": "1.2.0",
     "state": {
      "_model_module": "@jupyter-widgets/base",
      "_model_module_version": "1.2.0",
      "_model_name": "LayoutModel",
      "_view_count": null,
      "_view_module": "@jupyter-widgets/base",
      "_view_module_version": "1.2.0",
      "_view_name": "LayoutView",
      "align_content": null,
      "align_items": null,
      "align_self": null,
      "border": null,
      "bottom": null,
      "display": null,
      "flex": null,
      "flex_flow": null,
      "grid_area": null,
      "grid_auto_columns": null,
      "grid_auto_flow": null,
      "grid_auto_rows": null,
      "grid_column": null,
      "grid_gap": null,
      "grid_row": null,
      "grid_template_areas": null,
      "grid_template_columns": null,
      "grid_template_rows": null,
      "height": null,
      "justify_content": null,
      "justify_items": null,
      "left": null,
      "margin": null,
      "max_height": null,
      "max_width": null,
      "min_height": null,
      "min_width": null,
      "object_fit": null,
      "object_position": null,
      "order": null,
      "overflow": null,
      "overflow_x": null,
      "overflow_y": null,
      "padding": null,
      "right": null,
      "top": null,
      "visibility": null,
      "width": null
     }
    },
    "153b4d1553b64c329eeb6c15cbad9588": {
     "model_module": "@jupyter-widgets/controls",
     "model_name": "DescriptionStyleModel",
     "model_module_version": "1.5.0",
     "state": {
      "_model_module": "@jupyter-widgets/controls",
      "_model_module_version": "1.5.0",
      "_model_name": "DescriptionStyleModel",
      "_view_count": null,
      "_view_module": "@jupyter-widgets/base",
      "_view_module_version": "1.2.0",
      "_view_name": "StyleView",
      "description_width": ""
     }
    },
    "cfaf339da9e04d899d20b3597ff78776": {
     "model_module": "@jupyter-widgets/controls",
     "model_name": "HBoxModel",
     "model_module_version": "1.5.0",
     "state": {
      "_dom_classes": [],
      "_model_module": "@jupyter-widgets/controls",
      "_model_module_version": "1.5.0",
      "_model_name": "HBoxModel",
      "_view_count": null,
      "_view_module": "@jupyter-widgets/controls",
      "_view_module_version": "1.5.0",
      "_view_name": "HBoxView",
      "box_style": "",
      "children": [
       "IPY_MODEL_4756bef43146482688151895aef56b1e",
       "IPY_MODEL_96ec90afc16d4c1e997ae1387599f87d",
       "IPY_MODEL_a8c9faa21877400597e1b863e54df2f5"
      ],
      "layout": "IPY_MODEL_313c3eb05e864041822961387aa42638"
     }
    },
    "4756bef43146482688151895aef56b1e": {
     "model_module": "@jupyter-widgets/controls",
     "model_name": "HTMLModel",
     "model_module_version": "1.5.0",
     "state": {
      "_dom_classes": [],
      "_model_module": "@jupyter-widgets/controls",
      "_model_module_version": "1.5.0",
      "_model_name": "HTMLModel",
      "_view_count": null,
      "_view_module": "@jupyter-widgets/controls",
      "_view_module_version": "1.5.0",
      "_view_name": "HTMLView",
      "description": "",
      "description_tooltip": null,
      "layout": "IPY_MODEL_ac5a1aa9e6f64fca9edfa1661e95cdcf",
      "placeholder": "​",
      "style": "IPY_MODEL_f695e1f8fafc45bea8b309b5bac62c2d",
      "value": "Downloading (…)solve/main/vocab.txt: 100%"
     }
    },
    "96ec90afc16d4c1e997ae1387599f87d": {
     "model_module": "@jupyter-widgets/controls",
     "model_name": "FloatProgressModel",
     "model_module_version": "1.5.0",
     "state": {
      "_dom_classes": [],
      "_model_module": "@jupyter-widgets/controls",
      "_model_module_version": "1.5.0",
      "_model_name": "FloatProgressModel",
      "_view_count": null,
      "_view_module": "@jupyter-widgets/controls",
      "_view_module_version": "1.5.0",
      "_view_name": "ProgressView",
      "bar_style": "success",
      "description": "",
      "description_tooltip": null,
      "layout": "IPY_MODEL_8e45c1c7b5144bb8b88b5e21b8b8dcff",
      "max": 843438,
      "min": 0,
      "orientation": "horizontal",
      "style": "IPY_MODEL_6f0ff5612b084eabab3a34885c55e465",
      "value": 843438
     }
    },
    "a8c9faa21877400597e1b863e54df2f5": {
     "model_module": "@jupyter-widgets/controls",
     "model_name": "HTMLModel",
     "model_module_version": "1.5.0",
     "state": {
      "_dom_classes": [],
      "_model_module": "@jupyter-widgets/controls",
      "_model_module_version": "1.5.0",
      "_model_name": "HTMLModel",
      "_view_count": null,
      "_view_module": "@jupyter-widgets/controls",
      "_view_module_version": "1.5.0",
      "_view_name": "HTMLView",
      "description": "",
      "description_tooltip": null,
      "layout": "IPY_MODEL_6fb5df2e8b9a403dab7e4ed5b6cdb962",
      "placeholder": "​",
      "style": "IPY_MODEL_336eb9121a9e443487f87e134647a38b",
      "value": " 843k/843k [00:00&lt;00:00, 3.86MB/s]"
     }
    },
    "313c3eb05e864041822961387aa42638": {
     "model_module": "@jupyter-widgets/base",
     "model_name": "LayoutModel",
     "model_module_version": "1.2.0",
     "state": {
      "_model_module": "@jupyter-widgets/base",
      "_model_module_version": "1.2.0",
      "_model_name": "LayoutModel",
      "_view_count": null,
      "_view_module": "@jupyter-widgets/base",
      "_view_module_version": "1.2.0",
      "_view_name": "LayoutView",
      "align_content": null,
      "align_items": null,
      "align_self": null,
      "border": null,
      "bottom": null,
      "display": null,
      "flex": null,
      "flex_flow": null,
      "grid_area": null,
      "grid_auto_columns": null,
      "grid_auto_flow": null,
      "grid_auto_rows": null,
      "grid_column": null,
      "grid_gap": null,
      "grid_row": null,
      "grid_template_areas": null,
      "grid_template_columns": null,
      "grid_template_rows": null,
      "height": null,
      "justify_content": null,
      "justify_items": null,
      "left": null,
      "margin": null,
      "max_height": null,
      "max_width": null,
      "min_height": null,
      "min_width": null,
      "object_fit": null,
      "object_position": null,
      "order": null,
      "overflow": null,
      "overflow_x": null,
      "overflow_y": null,
      "padding": null,
      "right": null,
      "top": null,
      "visibility": null,
      "width": null
     }
    },
    "ac5a1aa9e6f64fca9edfa1661e95cdcf": {
     "model_module": "@jupyter-widgets/base",
     "model_name": "LayoutModel",
     "model_module_version": "1.2.0",
     "state": {
      "_model_module": "@jupyter-widgets/base",
      "_model_module_version": "1.2.0",
      "_model_name": "LayoutModel",
      "_view_count": null,
      "_view_module": "@jupyter-widgets/base",
      "_view_module_version": "1.2.0",
      "_view_name": "LayoutView",
      "align_content": null,
      "align_items": null,
      "align_self": null,
      "border": null,
      "bottom": null,
      "display": null,
      "flex": null,
      "flex_flow": null,
      "grid_area": null,
      "grid_auto_columns": null,
      "grid_auto_flow": null,
      "grid_auto_rows": null,
      "grid_column": null,
      "grid_gap": null,
      "grid_row": null,
      "grid_template_areas": null,
      "grid_template_columns": null,
      "grid_template_rows": null,
      "height": null,
      "justify_content": null,
      "justify_items": null,
      "left": null,
      "margin": null,
      "max_height": null,
      "max_width": null,
      "min_height": null,
      "min_width": null,
      "object_fit": null,
      "object_position": null,
      "order": null,
      "overflow": null,
      "overflow_x": null,
      "overflow_y": null,
      "padding": null,
      "right": null,
      "top": null,
      "visibility": null,
      "width": null
     }
    },
    "f695e1f8fafc45bea8b309b5bac62c2d": {
     "model_module": "@jupyter-widgets/controls",
     "model_name": "DescriptionStyleModel",
     "model_module_version": "1.5.0",
     "state": {
      "_model_module": "@jupyter-widgets/controls",
      "_model_module_version": "1.5.0",
      "_model_name": "DescriptionStyleModel",
      "_view_count": null,
      "_view_module": "@jupyter-widgets/base",
      "_view_module_version": "1.2.0",
      "_view_name": "StyleView",
      "description_width": ""
     }
    },
    "8e45c1c7b5144bb8b88b5e21b8b8dcff": {
     "model_module": "@jupyter-widgets/base",
     "model_name": "LayoutModel",
     "model_module_version": "1.2.0",
     "state": {
      "_model_module": "@jupyter-widgets/base",
      "_model_module_version": "1.2.0",
      "_model_name": "LayoutModel",
      "_view_count": null,
      "_view_module": "@jupyter-widgets/base",
      "_view_module_version": "1.2.0",
      "_view_name": "LayoutView",
      "align_content": null,
      "align_items": null,
      "align_self": null,
      "border": null,
      "bottom": null,
      "display": null,
      "flex": null,
      "flex_flow": null,
      "grid_area": null,
      "grid_auto_columns": null,
      "grid_auto_flow": null,
      "grid_auto_rows": null,
      "grid_column": null,
      "grid_gap": null,
      "grid_row": null,
      "grid_template_areas": null,
      "grid_template_columns": null,
      "grid_template_rows": null,
      "height": null,
      "justify_content": null,
      "justify_items": null,
      "left": null,
      "margin": null,
      "max_height": null,
      "max_width": null,
      "min_height": null,
      "min_width": null,
      "object_fit": null,
      "object_position": null,
      "order": null,
      "overflow": null,
      "overflow_x": null,
      "overflow_y": null,
      "padding": null,
      "right": null,
      "top": null,
      "visibility": null,
      "width": null
     }
    },
    "6f0ff5612b084eabab3a34885c55e465": {
     "model_module": "@jupyter-widgets/controls",
     "model_name": "ProgressStyleModel",
     "model_module_version": "1.5.0",
     "state": {
      "_model_module": "@jupyter-widgets/controls",
      "_model_module_version": "1.5.0",
      "_model_name": "ProgressStyleModel",
      "_view_count": null,
      "_view_module": "@jupyter-widgets/base",
      "_view_module_version": "1.2.0",
      "_view_name": "StyleView",
      "bar_color": null,
      "description_width": ""
     }
    },
    "6fb5df2e8b9a403dab7e4ed5b6cdb962": {
     "model_module": "@jupyter-widgets/base",
     "model_name": "LayoutModel",
     "model_module_version": "1.2.0",
     "state": {
      "_model_module": "@jupyter-widgets/base",
      "_model_module_version": "1.2.0",
      "_model_name": "LayoutModel",
      "_view_count": null,
      "_view_module": "@jupyter-widgets/base",
      "_view_module_version": "1.2.0",
      "_view_name": "LayoutView",
      "align_content": null,
      "align_items": null,
      "align_self": null,
      "border": null,
      "bottom": null,
      "display": null,
      "flex": null,
      "flex_flow": null,
      "grid_area": null,
      "grid_auto_columns": null,
      "grid_auto_flow": null,
      "grid_auto_rows": null,
      "grid_column": null,
      "grid_gap": null,
      "grid_row": null,
      "grid_template_areas": null,
      "grid_template_columns": null,
      "grid_template_rows": null,
      "height": null,
      "justify_content": null,
      "justify_items": null,
      "left": null,
      "margin": null,
      "max_height": null,
      "max_width": null,
      "min_height": null,
      "min_width": null,
      "object_fit": null,
      "object_position": null,
      "order": null,
      "overflow": null,
      "overflow_x": null,
      "overflow_y": null,
      "padding": null,
      "right": null,
      "top": null,
      "visibility": null,
      "width": null
     }
    },
    "336eb9121a9e443487f87e134647a38b": {
     "model_module": "@jupyter-widgets/controls",
     "model_name": "DescriptionStyleModel",
     "model_module_version": "1.5.0",
     "state": {
      "_model_module": "@jupyter-widgets/controls",
      "_model_module_version": "1.5.0",
      "_model_name": "DescriptionStyleModel",
      "_view_count": null,
      "_view_module": "@jupyter-widgets/base",
      "_view_module_version": "1.2.0",
      "_view_name": "StyleView",
      "description_width": ""
     }
    },
    "7637819540de4ec6a8f03965ddc64d64": {
     "model_module": "@jupyter-widgets/controls",
     "model_name": "HBoxModel",
     "model_module_version": "1.5.0",
     "state": {
      "_dom_classes": [],
      "_model_module": "@jupyter-widgets/controls",
      "_model_module_version": "1.5.0",
      "_model_name": "HBoxModel",
      "_view_count": null,
      "_view_module": "@jupyter-widgets/controls",
      "_view_module_version": "1.5.0",
      "_view_name": "HBoxView",
      "box_style": "",
      "children": [
       "IPY_MODEL_f6fea233c5bd4b38aea6203c69e4667c",
       "IPY_MODEL_ca221dca1e7141d6b9dd9de661c157a5",
       "IPY_MODEL_2b781bf0d6524333994596349e94c928"
      ],
      "layout": "IPY_MODEL_ec0f1c7c8fe941ea899fc30b07ccabe6"
     }
    },
    "f6fea233c5bd4b38aea6203c69e4667c": {
     "model_module": "@jupyter-widgets/controls",
     "model_name": "HTMLModel",
     "model_module_version": "1.5.0",
     "state": {
      "_dom_classes": [],
      "_model_module": "@jupyter-widgets/controls",
      "_model_module_version": "1.5.0",
      "_model_name": "HTMLModel",
      "_view_count": null,
      "_view_module": "@jupyter-widgets/controls",
      "_view_module_version": "1.5.0",
      "_view_name": "HTMLView",
      "description": "",
      "description_tooltip": null,
      "layout": "IPY_MODEL_9ce63750cb9f478f8b27450e3f495cfa",
      "placeholder": "​",
      "style": "IPY_MODEL_4aefe87e830c4cadae0a21b0fc1b3206",
      "value": "Downloading (…)solve/main/bpe.codes: 100%"
     }
    },
    "ca221dca1e7141d6b9dd9de661c157a5": {
     "model_module": "@jupyter-widgets/controls",
     "model_name": "FloatProgressModel",
     "model_module_version": "1.5.0",
     "state": {
      "_dom_classes": [],
      "_model_module": "@jupyter-widgets/controls",
      "_model_module_version": "1.5.0",
      "_model_name": "FloatProgressModel",
      "_view_count": null,
      "_view_module": "@jupyter-widgets/controls",
      "_view_module_version": "1.5.0",
      "_view_name": "ProgressView",
      "bar_style": "success",
      "description": "",
      "description_tooltip": null,
      "layout": "IPY_MODEL_14783a681c164f64b20986df4423dbf1",
      "max": 1078931,
      "min": 0,
      "orientation": "horizontal",
      "style": "IPY_MODEL_6a5802f70ab64b70bbb1a7e2add5c7a6",
      "value": 1078931
     }
    },
    "2b781bf0d6524333994596349e94c928": {
     "model_module": "@jupyter-widgets/controls",
     "model_name": "HTMLModel",
     "model_module_version": "1.5.0",
     "state": {
      "_dom_classes": [],
      "_model_module": "@jupyter-widgets/controls",
      "_model_module_version": "1.5.0",
      "_model_name": "HTMLModel",
      "_view_count": null,
      "_view_module": "@jupyter-widgets/controls",
      "_view_module_version": "1.5.0",
      "_view_name": "HTMLView",
      "description": "",
      "description_tooltip": null,
      "layout": "IPY_MODEL_42836447523c467f86ff9127bd2ca7b2",
      "placeholder": "​",
      "style": "IPY_MODEL_4f65e148e6d242b19a94e65e0f688cd0",
      "value": " 1.08M/1.08M [00:00&lt;00:00, 6.38MB/s]"
     }
    },
    "ec0f1c7c8fe941ea899fc30b07ccabe6": {
     "model_module": "@jupyter-widgets/base",
     "model_name": "LayoutModel",
     "model_module_version": "1.2.0",
     "state": {
      "_model_module": "@jupyter-widgets/base",
      "_model_module_version": "1.2.0",
      "_model_name": "LayoutModel",
      "_view_count": null,
      "_view_module": "@jupyter-widgets/base",
      "_view_module_version": "1.2.0",
      "_view_name": "LayoutView",
      "align_content": null,
      "align_items": null,
      "align_self": null,
      "border": null,
      "bottom": null,
      "display": null,
      "flex": null,
      "flex_flow": null,
      "grid_area": null,
      "grid_auto_columns": null,
      "grid_auto_flow": null,
      "grid_auto_rows": null,
      "grid_column": null,
      "grid_gap": null,
      "grid_row": null,
      "grid_template_areas": null,
      "grid_template_columns": null,
      "grid_template_rows": null,
      "height": null,
      "justify_content": null,
      "justify_items": null,
      "left": null,
      "margin": null,
      "max_height": null,
      "max_width": null,
      "min_height": null,
      "min_width": null,
      "object_fit": null,
      "object_position": null,
      "order": null,
      "overflow": null,
      "overflow_x": null,
      "overflow_y": null,
      "padding": null,
      "right": null,
      "top": null,
      "visibility": null,
      "width": null
     }
    },
    "9ce63750cb9f478f8b27450e3f495cfa": {
     "model_module": "@jupyter-widgets/base",
     "model_name": "LayoutModel",
     "model_module_version": "1.2.0",
     "state": {
      "_model_module": "@jupyter-widgets/base",
      "_model_module_version": "1.2.0",
      "_model_name": "LayoutModel",
      "_view_count": null,
      "_view_module": "@jupyter-widgets/base",
      "_view_module_version": "1.2.0",
      "_view_name": "LayoutView",
      "align_content": null,
      "align_items": null,
      "align_self": null,
      "border": null,
      "bottom": null,
      "display": null,
      "flex": null,
      "flex_flow": null,
      "grid_area": null,
      "grid_auto_columns": null,
      "grid_auto_flow": null,
      "grid_auto_rows": null,
      "grid_column": null,
      "grid_gap": null,
      "grid_row": null,
      "grid_template_areas": null,
      "grid_template_columns": null,
      "grid_template_rows": null,
      "height": null,
      "justify_content": null,
      "justify_items": null,
      "left": null,
      "margin": null,
      "max_height": null,
      "max_width": null,
      "min_height": null,
      "min_width": null,
      "object_fit": null,
      "object_position": null,
      "order": null,
      "overflow": null,
      "overflow_x": null,
      "overflow_y": null,
      "padding": null,
      "right": null,
      "top": null,
      "visibility": null,
      "width": null
     }
    },
    "4aefe87e830c4cadae0a21b0fc1b3206": {
     "model_module": "@jupyter-widgets/controls",
     "model_name": "DescriptionStyleModel",
     "model_module_version": "1.5.0",
     "state": {
      "_model_module": "@jupyter-widgets/controls",
      "_model_module_version": "1.5.0",
      "_model_name": "DescriptionStyleModel",
      "_view_count": null,
      "_view_module": "@jupyter-widgets/base",
      "_view_module_version": "1.2.0",
      "_view_name": "StyleView",
      "description_width": ""
     }
    },
    "14783a681c164f64b20986df4423dbf1": {
     "model_module": "@jupyter-widgets/base",
     "model_name": "LayoutModel",
     "model_module_version": "1.2.0",
     "state": {
      "_model_module": "@jupyter-widgets/base",
      "_model_module_version": "1.2.0",
      "_model_name": "LayoutModel",
      "_view_count": null,
      "_view_module": "@jupyter-widgets/base",
      "_view_module_version": "1.2.0",
      "_view_name": "LayoutView",
      "align_content": null,
      "align_items": null,
      "align_self": null,
      "border": null,
      "bottom": null,
      "display": null,
      "flex": null,
      "flex_flow": null,
      "grid_area": null,
      "grid_auto_columns": null,
      "grid_auto_flow": null,
      "grid_auto_rows": null,
      "grid_column": null,
      "grid_gap": null,
      "grid_row": null,
      "grid_template_areas": null,
      "grid_template_columns": null,
      "grid_template_rows": null,
      "height": null,
      "justify_content": null,
      "justify_items": null,
      "left": null,
      "margin": null,
      "max_height": null,
      "max_width": null,
      "min_height": null,
      "min_width": null,
      "object_fit": null,
      "object_position": null,
      "order": null,
      "overflow": null,
      "overflow_x": null,
      "overflow_y": null,
      "padding": null,
      "right": null,
      "top": null,
      "visibility": null,
      "width": null
     }
    },
    "6a5802f70ab64b70bbb1a7e2add5c7a6": {
     "model_module": "@jupyter-widgets/controls",
     "model_name": "ProgressStyleModel",
     "model_module_version": "1.5.0",
     "state": {
      "_model_module": "@jupyter-widgets/controls",
      "_model_module_version": "1.5.0",
      "_model_name": "ProgressStyleModel",
      "_view_count": null,
      "_view_module": "@jupyter-widgets/base",
      "_view_module_version": "1.2.0",
      "_view_name": "StyleView",
      "bar_color": null,
      "description_width": ""
     }
    },
    "42836447523c467f86ff9127bd2ca7b2": {
     "model_module": "@jupyter-widgets/base",
     "model_name": "LayoutModel",
     "model_module_version": "1.2.0",
     "state": {
      "_model_module": "@jupyter-widgets/base",
      "_model_module_version": "1.2.0",
      "_model_name": "LayoutModel",
      "_view_count": null,
      "_view_module": "@jupyter-widgets/base",
      "_view_module_version": "1.2.0",
      "_view_name": "LayoutView",
      "align_content": null,
      "align_items": null,
      "align_self": null,
      "border": null,
      "bottom": null,
      "display": null,
      "flex": null,
      "flex_flow": null,
      "grid_area": null,
      "grid_auto_columns": null,
      "grid_auto_flow": null,
      "grid_auto_rows": null,
      "grid_column": null,
      "grid_gap": null,
      "grid_row": null,
      "grid_template_areas": null,
      "grid_template_columns": null,
      "grid_template_rows": null,
      "height": null,
      "justify_content": null,
      "justify_items": null,
      "left": null,
      "margin": null,
      "max_height": null,
      "max_width": null,
      "min_height": null,
      "min_width": null,
      "object_fit": null,
      "object_position": null,
      "order": null,
      "overflow": null,
      "overflow_x": null,
      "overflow_y": null,
      "padding": null,
      "right": null,
      "top": null,
      "visibility": null,
      "width": null
     }
    },
    "4f65e148e6d242b19a94e65e0f688cd0": {
     "model_module": "@jupyter-widgets/controls",
     "model_name": "DescriptionStyleModel",
     "model_module_version": "1.5.0",
     "state": {
      "_model_module": "@jupyter-widgets/controls",
      "_model_module_version": "1.5.0",
      "_model_name": "DescriptionStyleModel",
      "_view_count": null,
      "_view_module": "@jupyter-widgets/base",
      "_view_module_version": "1.2.0",
      "_view_name": "StyleView",
      "description_width": ""
     }
    },
    "4317c5e524f444c1973bdc40787a3694": {
     "model_module": "@jupyter-widgets/controls",
     "model_name": "HBoxModel",
     "model_module_version": "1.5.0",
     "state": {
      "_dom_classes": [],
      "_model_module": "@jupyter-widgets/controls",
      "_model_module_version": "1.5.0",
      "_model_name": "HBoxModel",
      "_view_count": null,
      "_view_module": "@jupyter-widgets/controls",
      "_view_module_version": "1.5.0",
      "_view_name": "HBoxView",
      "box_style": "",
      "children": [
       "IPY_MODEL_8c974be476b545799b5a3c79c2528488",
       "IPY_MODEL_b1bb47f49ebb46449582e048591450f5",
       "IPY_MODEL_59ce07eceec946d499465f07eee72cc1"
      ],
      "layout": "IPY_MODEL_36b08f20c37f452097ac28343693bd37"
     }
    },
    "8c974be476b545799b5a3c79c2528488": {
     "model_module": "@jupyter-widgets/controls",
     "model_name": "HTMLModel",
     "model_module_version": "1.5.0",
     "state": {
      "_dom_classes": [],
      "_model_module": "@jupyter-widgets/controls",
      "_model_module_version": "1.5.0",
      "_model_name": "HTMLModel",
      "_view_count": null,
      "_view_module": "@jupyter-widgets/controls",
      "_view_module_version": "1.5.0",
      "_view_name": "HTMLView",
      "description": "",
      "description_tooltip": null,
      "layout": "IPY_MODEL_21821ca7b8294e0db651909b56e8f983",
      "placeholder": "​",
      "style": "IPY_MODEL_0de8844489fb40659354d1a4f9bdf271",
      "value": "Downloading (…)&quot;tf_model.h5&quot;;: 100%"
     }
    },
    "b1bb47f49ebb46449582e048591450f5": {
     "model_module": "@jupyter-widgets/controls",
     "model_name": "FloatProgressModel",
     "model_module_version": "1.5.0",
     "state": {
      "_dom_classes": [],
      "_model_module": "@jupyter-widgets/controls",
      "_model_module_version": "1.5.0",
      "_model_name": "FloatProgressModel",
      "_view_count": null,
      "_view_module": "@jupyter-widgets/controls",
      "_view_module_version": "1.5.0",
      "_view_name": "ProgressView",
      "bar_style": "success",
      "description": "",
      "description_tooltip": null,
      "layout": "IPY_MODEL_19f651f2fcb14d51b02491475982abbe",
      "max": 739523780,
      "min": 0,
      "orientation": "horizontal",
      "style": "IPY_MODEL_32ff59529fd14549b038444bd53cbf95",
      "value": 739523780
     }
    },
    "59ce07eceec946d499465f07eee72cc1": {
     "model_module": "@jupyter-widgets/controls",
     "model_name": "HTMLModel",
     "model_module_version": "1.5.0",
     "state": {
      "_dom_classes": [],
      "_model_module": "@jupyter-widgets/controls",
      "_model_module_version": "1.5.0",
      "_model_name": "HTMLModel",
      "_view_count": null,
      "_view_module": "@jupyter-widgets/controls",
      "_view_module_version": "1.5.0",
      "_view_name": "HTMLView",
      "description": "",
      "description_tooltip": null,
      "layout": "IPY_MODEL_4757d2cb22b94bc090670eb6200f09d0",
      "placeholder": "​",
      "style": "IPY_MODEL_9479d2a547734f0db6a09eb9aa0aebd6",
      "value": " 740M/740M [00:14&lt;00:00, 62.0MB/s]"
     }
    },
    "36b08f20c37f452097ac28343693bd37": {
     "model_module": "@jupyter-widgets/base",
     "model_name": "LayoutModel",
     "model_module_version": "1.2.0",
     "state": {
      "_model_module": "@jupyter-widgets/base",
      "_model_module_version": "1.2.0",
      "_model_name": "LayoutModel",
      "_view_count": null,
      "_view_module": "@jupyter-widgets/base",
      "_view_module_version": "1.2.0",
      "_view_name": "LayoutView",
      "align_content": null,
      "align_items": null,
      "align_self": null,
      "border": null,
      "bottom": null,
      "display": null,
      "flex": null,
      "flex_flow": null,
      "grid_area": null,
      "grid_auto_columns": null,
      "grid_auto_flow": null,
      "grid_auto_rows": null,
      "grid_column": null,
      "grid_gap": null,
      "grid_row": null,
      "grid_template_areas": null,
      "grid_template_columns": null,
      "grid_template_rows": null,
      "height": null,
      "justify_content": null,
      "justify_items": null,
      "left": null,
      "margin": null,
      "max_height": null,
      "max_width": null,
      "min_height": null,
      "min_width": null,
      "object_fit": null,
      "object_position": null,
      "order": null,
      "overflow": null,
      "overflow_x": null,
      "overflow_y": null,
      "padding": null,
      "right": null,
      "top": null,
      "visibility": null,
      "width": null
     }
    },
    "21821ca7b8294e0db651909b56e8f983": {
     "model_module": "@jupyter-widgets/base",
     "model_name": "LayoutModel",
     "model_module_version": "1.2.0",
     "state": {
      "_model_module": "@jupyter-widgets/base",
      "_model_module_version": "1.2.0",
      "_model_name": "LayoutModel",
      "_view_count": null,
      "_view_module": "@jupyter-widgets/base",
      "_view_module_version": "1.2.0",
      "_view_name": "LayoutView",
      "align_content": null,
      "align_items": null,
      "align_self": null,
      "border": null,
      "bottom": null,
      "display": null,
      "flex": null,
      "flex_flow": null,
      "grid_area": null,
      "grid_auto_columns": null,
      "grid_auto_flow": null,
      "grid_auto_rows": null,
      "grid_column": null,
      "grid_gap": null,
      "grid_row": null,
      "grid_template_areas": null,
      "grid_template_columns": null,
      "grid_template_rows": null,
      "height": null,
      "justify_content": null,
      "justify_items": null,
      "left": null,
      "margin": null,
      "max_height": null,
      "max_width": null,
      "min_height": null,
      "min_width": null,
      "object_fit": null,
      "object_position": null,
      "order": null,
      "overflow": null,
      "overflow_x": null,
      "overflow_y": null,
      "padding": null,
      "right": null,
      "top": null,
      "visibility": null,
      "width": null
     }
    },
    "0de8844489fb40659354d1a4f9bdf271": {
     "model_module": "@jupyter-widgets/controls",
     "model_name": "DescriptionStyleModel",
     "model_module_version": "1.5.0",
     "state": {
      "_model_module": "@jupyter-widgets/controls",
      "_model_module_version": "1.5.0",
      "_model_name": "DescriptionStyleModel",
      "_view_count": null,
      "_view_module": "@jupyter-widgets/base",
      "_view_module_version": "1.2.0",
      "_view_name": "StyleView",
      "description_width": ""
     }
    },
    "19f651f2fcb14d51b02491475982abbe": {
     "model_module": "@jupyter-widgets/base",
     "model_name": "LayoutModel",
     "model_module_version": "1.2.0",
     "state": {
      "_model_module": "@jupyter-widgets/base",
      "_model_module_version": "1.2.0",
      "_model_name": "LayoutModel",
      "_view_count": null,
      "_view_module": "@jupyter-widgets/base",
      "_view_module_version": "1.2.0",
      "_view_name": "LayoutView",
      "align_content": null,
      "align_items": null,
      "align_self": null,
      "border": null,
      "bottom": null,
      "display": null,
      "flex": null,
      "flex_flow": null,
      "grid_area": null,
      "grid_auto_columns": null,
      "grid_auto_flow": null,
      "grid_auto_rows": null,
      "grid_column": null,
      "grid_gap": null,
      "grid_row": null,
      "grid_template_areas": null,
      "grid_template_columns": null,
      "grid_template_rows": null,
      "height": null,
      "justify_content": null,
      "justify_items": null,
      "left": null,
      "margin": null,
      "max_height": null,
      "max_width": null,
      "min_height": null,
      "min_width": null,
      "object_fit": null,
      "object_position": null,
      "order": null,
      "overflow": null,
      "overflow_x": null,
      "overflow_y": null,
      "padding": null,
      "right": null,
      "top": null,
      "visibility": null,
      "width": null
     }
    },
    "32ff59529fd14549b038444bd53cbf95": {
     "model_module": "@jupyter-widgets/controls",
     "model_name": "ProgressStyleModel",
     "model_module_version": "1.5.0",
     "state": {
      "_model_module": "@jupyter-widgets/controls",
      "_model_module_version": "1.5.0",
      "_model_name": "ProgressStyleModel",
      "_view_count": null,
      "_view_module": "@jupyter-widgets/base",
      "_view_module_version": "1.2.0",
      "_view_name": "StyleView",
      "bar_color": null,
      "description_width": ""
     }
    },
    "4757d2cb22b94bc090670eb6200f09d0": {
     "model_module": "@jupyter-widgets/base",
     "model_name": "LayoutModel",
     "model_module_version": "1.2.0",
     "state": {
      "_model_module": "@jupyter-widgets/base",
      "_model_module_version": "1.2.0",
      "_model_name": "LayoutModel",
      "_view_count": null,
      "_view_module": "@jupyter-widgets/base",
      "_view_module_version": "1.2.0",
      "_view_name": "LayoutView",
      "align_content": null,
      "align_items": null,
      "align_self": null,
      "border": null,
      "bottom": null,
      "display": null,
      "flex": null,
      "flex_flow": null,
      "grid_area": null,
      "grid_auto_columns": null,
      "grid_auto_flow": null,
      "grid_auto_rows": null,
      "grid_column": null,
      "grid_gap": null,
      "grid_row": null,
      "grid_template_areas": null,
      "grid_template_columns": null,
      "grid_template_rows": null,
      "height": null,
      "justify_content": null,
      "justify_items": null,
      "left": null,
      "margin": null,
      "max_height": null,
      "max_width": null,
      "min_height": null,
      "min_width": null,
      "object_fit": null,
      "object_position": null,
      "order": null,
      "overflow": null,
      "overflow_x": null,
      "overflow_y": null,
      "padding": null,
      "right": null,
      "top": null,
      "visibility": null,
      "width": null
     }
    },
    "9479d2a547734f0db6a09eb9aa0aebd6": {
     "model_module": "@jupyter-widgets/controls",
     "model_name": "DescriptionStyleModel",
     "model_module_version": "1.5.0",
     "state": {
      "_model_module": "@jupyter-widgets/controls",
      "_model_module_version": "1.5.0",
      "_model_name": "DescriptionStyleModel",
      "_view_count": null,
      "_view_module": "@jupyter-widgets/base",
      "_view_module_version": "1.2.0",
      "_view_name": "StyleView",
      "description_width": ""
     }
    }
   }
  },
  "colab": {
   "provenance": []
  },
  "accelerator": "TPU",
  "gpuClass": "standard"
 },
 "nbformat": 4,
 "nbformat_minor": 5
}

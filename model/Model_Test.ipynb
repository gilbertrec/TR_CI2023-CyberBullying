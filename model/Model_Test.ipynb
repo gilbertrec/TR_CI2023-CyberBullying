{
 "nbformat": 4,
 "nbformat_minor": 0,
 "metadata": {
  "colab": {
   "provenance": []
  },
  "kernelspec": {
   "name": "python3",
   "display_name": "Python 3"
  },
  "language_info": {
   "name": "python"
  }
 },
 "cells": [
  {
   "cell_type": "code",
   "execution_count": 29,
   "metadata": {
    "colab": {
     "base_uri": "https://localhost:8080/"
    },
    "id": "6MX5QQWAJwQm",
    "executionInfo": {
     "status": "ok",
     "timestamp": 1678047766136,
     "user_tz": -60,
     "elapsed": 13595,
     "user": {
      "displayName": "Gilbert Recupito",
      "userId": "01607293748510166402"
     }
    },
    "outputId": "5fb268d8-4f0f-4aad-f022-e26aef822a40"
   },
   "outputs": [
    {
     "name": "stdout",
     "output_type": "stream",
     "text": [
      "Requirement already satisfied: tensorflow_addons in c:\\users\\gilberto\\anaconda3\\lib\\site-packages (0.19.0)\n",
      "Requirement already satisfied: typeguard>=2.7 in c:\\users\\gilberto\\anaconda3\\lib\\site-packages (from tensorflow_addons) (2.13.3)\n",
      "Requirement already satisfied: packaging in c:\\users\\gilberto\\appdata\\local\\packages\\pythonsoftwarefoundation.python.3.9_qbz5n2kfra8p0\\localcache\\local-packages\\python39\\site-packages (from tensorflow_addons) (23.0)\n"
     ]
    },
    {
     "name": "stderr",
     "output_type": "stream",
     "text": [
      "WARNING: Ignoring invalid distribution -rotobuf (c:\\users\\gilberto\\appdata\\local\\packages\\pythonsoftwarefoundation.python.3.9_qbz5n2kfra8p0\\localcache\\local-packages\\python39\\site-packages)\n",
      "WARNING: Ignoring invalid distribution -rotobuf (c:\\users\\gilberto\\appdata\\local\\packages\\pythonsoftwarefoundation.python.3.9_qbz5n2kfra8p0\\localcache\\local-packages\\python39\\site-packages)\n",
      "WARNING: Ignoring invalid distribution -rotobuf (c:\\users\\gilberto\\appdata\\local\\packages\\pythonsoftwarefoundation.python.3.9_qbz5n2kfra8p0\\localcache\\local-packages\\python39\\site-packages)\n",
      "WARNING: Ignoring invalid distribution -rotobuf (c:\\users\\gilberto\\appdata\\local\\packages\\pythonsoftwarefoundation.python.3.9_qbz5n2kfra8p0\\localcache\\local-packages\\python39\\site-packages)\n",
      "WARNING: Ignoring invalid distribution -rotobuf (c:\\users\\gilberto\\appdata\\local\\packages\\pythonsoftwarefoundation.python.3.9_qbz5n2kfra8p0\\localcache\\local-packages\\python39\\site-packages)\n",
      "WARNING: Ignoring invalid distribution -rotobuf (c:\\users\\gilberto\\appdata\\local\\packages\\pythonsoftwarefoundation.python.3.9_qbz5n2kfra8p0\\localcache\\local-packages\\python39\\site-packages)\n"
     ]
    },
    {
     "name": "stdout",
     "output_type": "stream",
     "text": [
      "Requirement already satisfied: transformers in c:\\users\\gilberto\\appdata\\local\\packages\\pythonsoftwarefoundation.python.3.9_qbz5n2kfra8p0\\localcache\\local-packages\\python39\\site-packages (4.26.0)\n",
      "Requirement already satisfied: huggingface-hub<1.0,>=0.11.0 in c:\\users\\gilberto\\appdata\\local\\packages\\pythonsoftwarefoundation.python.3.9_qbz5n2kfra8p0\\localcache\\local-packages\\python39\\site-packages (from transformers) (0.12.1)\n",
      "Requirement already satisfied: requests in c:\\users\\gilberto\\appdata\\local\\packages\\pythonsoftwarefoundation.python.3.9_qbz5n2kfra8p0\\localcache\\local-packages\\python39\\site-packages (from transformers) (2.28.2)\n",
      "Requirement already satisfied: filelock in c:\\users\\gilberto\\appdata\\local\\packages\\pythonsoftwarefoundation.python.3.9_qbz5n2kfra8p0\\localcache\\local-packages\\python39\\site-packages (from transformers) (3.9.0)\n",
      "Requirement already satisfied: numpy>=1.17 in c:\\users\\gilberto\\appdata\\local\\packages\\pythonsoftwarefoundation.python.3.9_qbz5n2kfra8p0\\localcache\\local-packages\\python39\\site-packages (from transformers) (1.21.2)\n",
      "Requirement already satisfied: regex!=2019.12.17 in c:\\users\\gilberto\\appdata\\local\\packages\\pythonsoftwarefoundation.python.3.9_qbz5n2kfra8p0\\localcache\\local-packages\\python39\\site-packages (from transformers) (2022.10.31)\n",
      "Requirement already satisfied: tqdm>=4.27 in c:\\users\\gilberto\\appdata\\local\\packages\\pythonsoftwarefoundation.python.3.9_qbz5n2kfra8p0\\localcache\\local-packages\\python39\\site-packages (from transformers) (4.64.1)\n",
      "Requirement already satisfied: tokenizers!=0.11.3,<0.14,>=0.11.1 in c:\\users\\gilberto\\appdata\\local\\packages\\pythonsoftwarefoundation.python.3.9_qbz5n2kfra8p0\\localcache\\local-packages\\python39\\site-packages (from transformers) (0.13.2)\n",
      "Requirement already satisfied: pyyaml>=5.1 in c:\\users\\gilberto\\appdata\\local\\packages\\pythonsoftwarefoundation.python.3.9_qbz5n2kfra8p0\\localcache\\local-packages\\python39\\site-packages (from transformers) (5.4.1)\n",
      "Requirement already satisfied: packaging>=20.0 in c:\\users\\gilberto\\appdata\\local\\packages\\pythonsoftwarefoundation.python.3.9_qbz5n2kfra8p0\\localcache\\local-packages\\python39\\site-packages (from transformers) (23.0)\n",
      "Requirement already satisfied: typing-extensions>=3.7.4.3 in c:\\users\\gilberto\\appdata\\local\\packages\\pythonsoftwarefoundation.python.3.9_qbz5n2kfra8p0\\localcache\\local-packages\\python39\\site-packages (from huggingface-hub<1.0,>=0.11.0->transformers) (4.5.0)\n",
      "Requirement already satisfied: colorama in c:\\users\\gilberto\\appdata\\local\\packages\\pythonsoftwarefoundation.python.3.9_qbz5n2kfra8p0\\localcache\\local-packages\\python39\\site-packages (from tqdm>=4.27->transformers) (0.4.4)\n",
      "Requirement already satisfied: urllib3<1.27,>=1.21.1 in c:\\users\\gilberto\\appdata\\local\\packages\\pythonsoftwarefoundation.python.3.9_qbz5n2kfra8p0\\localcache\\local-packages\\python39\\site-packages (from requests->transformers) (1.26.6)\n",
      "Requirement already satisfied: charset-normalizer<4,>=2 in c:\\users\\gilberto\\appdata\\local\\packages\\pythonsoftwarefoundation.python.3.9_qbz5n2kfra8p0\\localcache\\local-packages\\python39\\site-packages (from requests->transformers) (2.0.5)\n",
      "Requirement already satisfied: idna<4,>=2.5 in c:\\users\\gilberto\\appdata\\local\\packages\\pythonsoftwarefoundation.python.3.9_qbz5n2kfra8p0\\localcache\\local-packages\\python39\\site-packages (from requests->transformers) (3.2)\n",
      "Requirement already satisfied: certifi>=2017.4.17 in c:\\users\\gilberto\\appdata\\local\\packages\\pythonsoftwarefoundation.python.3.9_qbz5n2kfra8p0\\localcache\\local-packages\\python39\\site-packages (from requests->transformers) (2021.5.30)\n"
     ]
    },
    {
     "name": "stderr",
     "output_type": "stream",
     "text": [
      "WARNING: Ignoring invalid distribution -rotobuf (c:\\users\\gilberto\\appdata\\local\\packages\\pythonsoftwarefoundation.python.3.9_qbz5n2kfra8p0\\localcache\\local-packages\\python39\\site-packages)\n",
      "WARNING: Ignoring invalid distribution -rotobuf (c:\\users\\gilberto\\appdata\\local\\packages\\pythonsoftwarefoundation.python.3.9_qbz5n2kfra8p0\\localcache\\local-packages\\python39\\site-packages)\n",
      "WARNING: Ignoring invalid distribution -rotobuf (c:\\users\\gilberto\\appdata\\local\\packages\\pythonsoftwarefoundation.python.3.9_qbz5n2kfra8p0\\localcache\\local-packages\\python39\\site-packages)\n",
      "WARNING: Ignoring invalid distribution -rotobuf (c:\\users\\gilberto\\appdata\\local\\packages\\pythonsoftwarefoundation.python.3.9_qbz5n2kfra8p0\\localcache\\local-packages\\python39\\site-packages)\n",
      "WARNING: Ignoring invalid distribution -rotobuf (c:\\users\\gilberto\\appdata\\local\\packages\\pythonsoftwarefoundation.python.3.9_qbz5n2kfra8p0\\localcache\\local-packages\\python39\\site-packages)\n",
      "WARNING: Ignoring invalid distribution -rotobuf (c:\\users\\gilberto\\appdata\\local\\packages\\pythonsoftwarefoundation.python.3.9_qbz5n2kfra8p0\\localcache\\local-packages\\python39\\site-packages)\n"
     ]
    }
   ],
   "source": [
    "!pip install tensorflow_addons\n",
    "!pip install transformers"
   ]
  },
  {
   "cell_type": "code",
   "source": [
    "import warnings\n",
    "warnings.simplefilter(action='ignore', category=FutureWarning)\n",
    "\n",
    "import pandas as pd\n",
    "import numpy as np\n",
    "\n",
    "from sklearn.model_selection import train_test_split\n",
    "\n",
    "import tensorflow as tf\n",
    "from transformers import AutoTokenizer,TFRobertaModel\n",
    "import transformers"
   ],
   "metadata": {
    "colab": {
     "base_uri": "https://localhost:8080/"
    },
    "id": "xo_QmVPWKxMD",
    "executionInfo": {
     "status": "ok",
     "timestamp": 1678047817663,
     "user_tz": -60,
     "elapsed": 2040,
     "user": {
      "displayName": "Gilbert Recupito",
      "userId": "01607293748510166402"
     }
    },
    "outputId": "22db252c-66cf-4dfc-b4b8-4aa2af242ab2"
   },
   "execution_count": 30,
   "outputs": []
  },
  {
   "cell_type": "markdown",
   "source": [
    "#Load Model"
   ],
   "metadata": {
    "id": "GHyrzw2BKlFN"
   }
  },
  {
   "cell_type": "code",
   "source": [
    "model = tf.keras.models.load_model('../bert_tweet/models/model32_0.35_1e-05_5e-07.h5',custom_objects={\"TFRobertaModel\": transformers.TFRobertaModel})"
   ],
   "metadata": {
    "colab": {
     "base_uri": "https://localhost:8080/"
    },
    "id": "bGynRXf4Kki7",
    "executionInfo": {
     "status": "ok",
     "timestamp": 1678048282351,
     "user_tz": -60,
     "elapsed": 15040,
     "user": {
      "displayName": "Gilbert Recupito",
      "userId": "01607293748510166402"
     }
    },
    "outputId": "fb817bca-79d7-447a-c071-60bb82646530"
   },
   "execution_count": 31,
   "outputs": [
    {
     "name": "stdout",
     "output_type": "stream",
     "text": [
      "WARNING:tensorflow:Error in loading the saved optimizer state. As a result, your model is starting with a freshly initialized optimizer.\n"
     ]
    }
   ]
  },
  {
   "cell_type": "code",
   "source": [
    "# consider that the size of a sentence is limited, don't use too long sentences\n",
    "#this sentence is advised by copilot to be a hate speech, let's see if the model can detect it\n",
    "string = \"UNISA will rule the world, and this is a promise. Let's kill other university students and make them our slaves.\"\n",
    "\n",
    "#formatting text to avoid characters not included in the encoding dictionary of the tokenizer\n",
    "x = (string\n",
    "     .lower()     \n",
    "     .replace('\\x89Ûª|Ûª', \"'\")\n",
    "     .replace('\\n|\\x89.|\\x9d *', ' ')\n",
    "     .replace('&gt;', \">\")\n",
    "     .replace('&lt;', \"<\")\n",
    "     .replace('&amp;', \" and \")\n",
    "     .replace('won\\'t', 'will not')\n",
    "     .replace('can\\'t', 'cannot')\n",
    "     .replace('i\\'m', 'i am')\n",
    "     .replace('ain\\'t', 'is not')\n",
    "     .replace('hwy.', 'highway')\n",
    "     .replace('(\\w+)\\'ll', '\\g<1> will')\n",
    "     .replace('(\\w+)n\\'t', '\\g<1> not')\n",
    "     .replace('(\\w+)\\'ve', '\\g<1> have')\n",
    "     .replace('(\\w+)\\'s', '\\g<1> is')\n",
    "     .replace('(\\w+)\\'re', '\\g<1> are')\n",
    "     .replace('(\\w+)\\'d', '\\g<1> would')     \n",
    "     .replace('(\\w+)\\'m', '\\g<1> am')\n",
    "     .replace('<3', 'love')\n",
    "     .replace('w/e', 'whatever')\n",
    "     .replace('w/', 'with')    \n",
    "     .replace('\\b', ' ')\n",
    "     .replace('-', ' ')\n",
    "     .replace('  *', ' ')\n",
    "    )\n",
    "\n",
    "#let's tokenize the text\n",
    "tokenizer = AutoTokenizer.from_pretrained('vinai/bertweet-base', \n",
    "                        normalization=True, \n",
    "                        use_fast = False,\n",
    "                        add_special_tokens=True,\n",
    "                        pad_to_max_length=True,\n",
    "                        return_attention_mask=True)\n",
    "token = tokenizer(string, \n",
    "                  padding=\"max_length\", \n",
    "                  truncation=True,\n",
    "                  return_tensors = 'tf').data\n",
    "\n"
   ],
   "metadata": {
    "colab": {
     "base_uri": "https://localhost:8080/"
    },
    "id": "T7U_grvmK16R",
    "executionInfo": {
     "status": "ok",
     "timestamp": 1678049599193,
     "user_tz": -60,
     "elapsed": 273,
     "user": {
      "displayName": "Gilbert Recupito",
      "userId": "01607293748510166402"
     }
    },
    "outputId": "627be3d8-e576-4c1c-c709-0b08c2875abb"
   },
   "execution_count": 32,
   "outputs": [
    {
     "name": "stderr",
     "output_type": "stream",
     "text": [
      "emoji is not installed, thus not converting emoticons or emojis into text. Install emoji: pip3 install emoji==0.6.0\n",
      "Special tokens have been added in the vocabulary, make sure the associated word embeddings are fine-tuned or trained.\n"
     ]
    }
   ]
  },
  {
   "cell_type": "code",
   "source": [
    "#let's predict\n",
    "x = model.predict(token)\n",
    "# see the prediction, if > 0.5, it's a hate speech\n",
    "print(\"Text:\",string,\"Prediction:\",x[0][0])"
   ],
   "metadata": {
    "colab": {
     "base_uri": "https://localhost:8080/"
    },
    "id": "dss0aLjjM_tg",
    "executionInfo": {
     "status": "ok",
     "timestamp": 1678049589980,
     "user_tz": -60,
     "elapsed": 1039,
     "user": {
      "displayName": "Gilbert Recupito",
      "userId": "01607293748510166402"
     }
    },
    "outputId": "89d2cfbf-09a1-4755-a965-7ba735613c60"
   },
   "execution_count": 33,
   "outputs": [
    {
     "name": "stderr",
     "output_type": "stream",
     "text": [
      "C:\\Users\\Gilberto\\AppData\\Local\\Packages\\PythonSoftwareFoundation.Python.3.9_qbz5n2kfra8p0\\LocalCache\\local-packages\\Python39\\site-packages\\keras\\engine\\functional.py:638: UserWarning: Input dict contained keys ['token_type_ids'] which did not match any model input. They will be ignored by the model.\n",
      "  inputs = self._flatten_to_reference_inputs(inputs)\n"
     ]
    },
    {
     "name": "stdout",
     "output_type": "stream",
     "text": [
      "1/1 [==============================] - 3s 3s/step\n",
      "Text: UNISA will rule the world, and this is a promise. Let's kill other university students and make them our slaves. Prediction: 0.89823157\n"
     ]
    }
   ]
  }
 ]
}
